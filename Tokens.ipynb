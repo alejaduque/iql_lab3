{
 "cells": [
  {
   "cell_type": "code",
   "execution_count": 1,
   "metadata": {},
   "outputs": [],
   "source": [
    "import spacy\n",
    "import jieba\n",
    "import pandas as pd\n",
    "from tqdm import tqdm\n",
    "from math import log\n",
    "\n",
    "jieba.set_dictionary('data/dict.txt.big')"
   ]
  },
  {
   "cell_type": "code",
   "execution_count": 2,
   "metadata": {},
   "outputs": [
    {
     "name": "stderr",
     "output_type": "stream",
     "text": [
      "Building prefix dict from c:\\Users\\hugo_\\Desktop\\iql_lab3\\data\\dict.txt.big ...\n",
      "Loading model from cache C:\\Users\\hugo_\\AppData\\Local\\Temp\\jieba.uceaac3f4f1db143f008c31874e8bc8f8.cache\n",
      "Loading model cost 1.540 seconds.\n",
      "Prefix dict has been built successfully.\n"
     ]
    }
   ],
   "source": [
    "with open(\"data/clean/zh_book1.txt\", 'r', encoding='utf-8') as file:\n",
    "    text = file.read()\n",
    "tokens = jieba.lcut(text, cut_all = False)"
   ]
  },
  {
   "cell_type": "code",
   "execution_count": 3,
   "metadata": {},
   "outputs": [
    {
     "name": "stdout",
     "output_type": "stream",
     "text": [
      "93188 132398 39210\n"
     ]
    }
   ],
   "source": [
    "punc = \"！？｡。＂＃＄％＆＇（）＊＋，－／：；＜＝＞＠［＼］＾＿｀｛｜｝～｟｠｢｣､、〃《》「」『』【】〔〕〖〗〘〙〚〛〜〝〞〟〰〾〿–—‘’‛“”„‟…‧﹏.　 ﹔\\n[]\"\n",
    "clean_tokens = [token for token in tokens if token not in punc]\n",
    "text_without_punctuation = ','.join(clean_tokens)\n",
    "print(len(clean_tokens),len(tokens),-len(clean_tokens)+len(tokens))"
   ]
  },
  {
   "cell_type": "code",
   "execution_count": 4,
   "metadata": {},
   "outputs": [
    {
     "data": {
      "text/plain": [
       "'天豹'"
      ]
     },
     "execution_count": 4,
     "metadata": {},
     "output_type": "execute_result"
    }
   ],
   "source": [
    "clean_tokens[0]"
   ]
  },
  {
   "cell_type": "code",
   "execution_count": 5,
   "metadata": {},
   "outputs": [
    {
     "name": "stderr",
     "output_type": "stream",
     "text": [
      "100%|██████████| 14161/14161 [01:32<00:00, 152.42it/s]\n"
     ]
    }
   ],
   "source": [
    "# Function to create a DataFrame for each element\n",
    "def create_dataframe_for_element(element, my_list):\n",
    "    indexes = [i for i, x in enumerate(my_list) if x == element]\n",
    "    df = pd.DataFrame({\"Token\": [element], \"Index\": [indexes]})\n",
    "    return df\n",
    "\n",
    "# Iterate through unique elements in the list and create DataFrames\n",
    "dfs = [create_dataframe_for_element(element, clean_tokens) for element in tqdm(set(clean_tokens))]\n",
    "\n",
    "# Concatenate DataFrames into a single DataFrame\n",
    "positions = pd.concat(dfs, ignore_index=True)"
   ]
  },
  {
   "cell_type": "code",
   "execution_count": 6,
   "metadata": {},
   "outputs": [
    {
     "data": {
      "text/html": [
       "<div>\n",
       "<style scoped>\n",
       "    .dataframe tbody tr th:only-of-type {\n",
       "        vertical-align: middle;\n",
       "    }\n",
       "\n",
       "    .dataframe tbody tr th {\n",
       "        vertical-align: top;\n",
       "    }\n",
       "\n",
       "    .dataframe thead th {\n",
       "        text-align: right;\n",
       "    }\n",
       "</style>\n",
       "<table border=\"1\" class=\"dataframe\">\n",
       "  <thead>\n",
       "    <tr style=\"text-align: right;\">\n",
       "      <th></th>\n",
       "      <th>Token</th>\n",
       "      <th>Index</th>\n",
       "    </tr>\n",
       "  </thead>\n",
       "  <tbody>\n",
       "    <tr>\n",
       "      <th>0</th>\n",
       "      <td>指點</td>\n",
       "      <td>[123]</td>\n",
       "    </tr>\n",
       "    <tr>\n",
       "      <th>1</th>\n",
       "      <td>送母</td>\n",
       "      <td>[5915]</td>\n",
       "    </tr>\n",
       "    <tr>\n",
       "      <th>2</th>\n",
       "      <td>監牢</td>\n",
       "      <td>[26184, 73563]</td>\n",
       "    </tr>\n",
       "    <tr>\n",
       "      <th>3</th>\n",
       "      <td>學生</td>\n",
       "      <td>[5422]</td>\n",
       "    </tr>\n",
       "    <tr>\n",
       "      <th>4</th>\n",
       "      <td>力大無窮</td>\n",
       "      <td>[71428, 89175]</td>\n",
       "    </tr>\n",
       "    <tr>\n",
       "      <th>...</th>\n",
       "      <td>...</td>\n",
       "      <td>...</td>\n",
       "    </tr>\n",
       "    <tr>\n",
       "      <th>14156</th>\n",
       "      <td>上牀</td>\n",
       "      <td>[33297, 33390, 36851, 43612, 48345, 62168, 833...</td>\n",
       "    </tr>\n",
       "    <tr>\n",
       "      <th>14157</th>\n",
       "      <td>田爺</td>\n",
       "      <td>[92557]</td>\n",
       "    </tr>\n",
       "    <tr>\n",
       "      <th>14158</th>\n",
       "      <td>九霄雲外</td>\n",
       "      <td>[8944]</td>\n",
       "    </tr>\n",
       "    <tr>\n",
       "      <th>14159</th>\n",
       "      <td>燒完</td>\n",
       "      <td>[10861]</td>\n",
       "    </tr>\n",
       "    <tr>\n",
       "      <th>14160</th>\n",
       "      <td>李榮春之事</td>\n",
       "      <td>[17740, 20747, 21521, 32819]</td>\n",
       "    </tr>\n",
       "  </tbody>\n",
       "</table>\n",
       "<p>14161 rows × 2 columns</p>\n",
       "</div>"
      ],
      "text/plain": [
       "       Token                                              Index\n",
       "0         指點                                              [123]\n",
       "1         送母                                             [5915]\n",
       "2         監牢                                     [26184, 73563]\n",
       "3         學生                                             [5422]\n",
       "4       力大無窮                                     [71428, 89175]\n",
       "...      ...                                                ...\n",
       "14156     上牀  [33297, 33390, 36851, 43612, 48345, 62168, 833...\n",
       "14157     田爺                                            [92557]\n",
       "14158   九霄雲外                                             [8944]\n",
       "14159     燒完                                            [10861]\n",
       "14160  李榮春之事                       [17740, 20747, 21521, 32819]\n",
       "\n",
       "[14161 rows x 2 columns]"
      ]
     },
     "execution_count": 6,
     "metadata": {},
     "output_type": "execute_result"
    }
   ],
   "source": [
    "positions"
   ]
  },
  {
   "cell_type": "code",
   "execution_count": 7,
   "metadata": {},
   "outputs": [],
   "source": [
    "#Frequencies\n",
    "def get_pos(df, token):\n",
    "    pos = df.loc[df['Token'] == token, 'Index'].iloc[0]\n",
    "    return pos\n",
    "\n",
    "def f(x_token:str, y_token:str , tokens:list[str], set_df:pd.DataFrame, distance:int) -> int:\n",
    "    fr = 0\n",
    "    for i in get_pos(set_df, x_token):\n",
    "        y_pos = i+distance\n",
    "        if y_pos < len(tokens) and y_pos >= 0 and y_token == tokens[y_pos]:\n",
    "           #print(True, y_pos/len(tokens), x_token, y_token)\n",
    "           fr += 1\n",
    "    return fr\n",
    "\n",
    "def f_x(x_token:str, tokens:list[str], set_df:pd.DataFrame, distance:int) -> int:\n",
    "    fr = 0\n",
    "    for y_token in tqdm(set_df.iloc[:,0]):\n",
    "        fr += f(x_token, y_token, tokens, set_df, distance)\n",
    "    return fr\n",
    "\n",
    "def f_y(y_token:str, tokens:list[str], set_df:pd.DataFrame, distance:int) -> int:\n",
    "    fr = 0\n",
    "    for x_token in tqdm(set_df.iloc[:,0]):\n",
    "        fr += f(x_token, y_token, tokens, set_df, distance)\n",
    "    return fr\n",
    "\n",
    "def big_F(tokens:list[str], set_df:pd.DataFrame, distance:int) -> int:\n",
    "    fr = 0\n",
    "    for x_token in tqdm(set_df.iloc[:,0]):\n",
    "        for y_token in set_df.iloc[:,0]:\n",
    "            fr += f(x_token, y_token, tokens, set_df, distance)\n",
    "    return fr\n",
    "\n",
    "#--------------------------------------------------#\n",
    "\n",
    "def fast_f_x(x_token:str, tokens:list[str], set_df:pd.DataFrame, distance:int) -> int:\n",
    "    fr = 0\n",
    "    for el in get_pos(set_df, x_token):\n",
    "        pos = el + distance\n",
    "        if pos < len(tokens) and pos >= 0:\n",
    "            fr += 1\n",
    "    return fr\n",
    "\n",
    "def fast_f_y(y_token:str, tokens:list[str], set_df:pd.DataFrame, distance:int) -> int:\n",
    "    fr = 0\n",
    "    for el in get_pos(set_df, y_token):\n",
    "        pos = el - distance\n",
    "        if pos < len(tokens) and pos >= 0:\n",
    "            fr += 1\n",
    "    return fr\n",
    "\n",
    "def fast_big_f(tokens:list[str], set_df:pd.DataFrame, distance:int) -> int:\n",
    "    return (len(tokens)-distance)"
   ]
  },
  {
   "cell_type": "code",
   "execution_count": 8,
   "metadata": {},
   "outputs": [],
   "source": [
    "#Probabilities\n",
    "def p_x_y(x_token:str, y_token:str , tokens:list[str], set_df:pd.DataFrame, distance:int) -> float:\n",
    "    p = f(x_token, y_token, tokens, set_df, distance) / fast_big_f(tokens, set_df, distance)\n",
    "    return p\n",
    "\n",
    "def p_x(x_token:str, tokens:list[str], set_df:pd.DataFrame, distance:int) -> float:\n",
    "    p = fast_f_x(x_token, tokens, set_df, distance) / fast_big_f(tokens, set_df, distance)\n",
    "    return p\n",
    "\n",
    "def p_y(y_token:str , tokens:list[str], set_df:pd.DataFrame, distance:int) -> float:\n",
    "    p = fast_f_y(y_token, tokens, set_df, distance) / fast_big_f(tokens, set_df, distance)\n",
    "    return p"
   ]
  },
  {
   "cell_type": "code",
   "execution_count": 13,
   "metadata": {},
   "outputs": [],
   "source": [
    "#Entropies\n",
    "def H_X(tokens:list[str], set_df:pd.DataFrame, distance:int) -> float:\n",
    "    F = fast_big_f(tokens, set_df, distance)\n",
    "    H = 0\n",
    "    for x_token in tqdm(set_df.iloc[:,0]):\n",
    "        fx = fast_f_x(x_token, tokens, set_df, distance)\n",
    "        if fx != 0:\n",
    "            H += fx * log(fx)\n",
    "    H = H/F\n",
    "    H = log(F) - H \n",
    "    return H\n",
    "\n",
    "def H_Y(tokens:list[str], set_df:pd.DataFrame, distance:int) -> float:\n",
    "    F = fast_big_f(tokens, set_df, distance)\n",
    "    H = 0\n",
    "    for y_token in tqdm(set_df.iloc[:,0]):\n",
    "        fy = fast_f_y(y_token, tokens, set_df, distance)\n",
    "        if fy != 0:\n",
    "            H += fy * log(fy)\n",
    "    H = H/F\n",
    "    H = log(F) - H \n",
    "    return H\n",
    "\n",
    "def H_XY(tokens:list[str], set_df:pd.DataFrame, distance:int) -> float:\n",
    "    F = fast_big_f(tokens, set_df, distance)\n",
    "    H = 0\n",
    "    for x_token in tqdm(set_df.iloc[:,0]):\n",
    "        for y_token in set_df.iloc[:,0]:\n",
    "            fr = f(x_token, y_token, tokens, set_df, distance)\n",
    "            if fr != 0:\n",
    "                H += fr * log(fr)\n",
    "    H = H/F\n",
    "    H = log(F) - H \n",
    "    return H"
   ]
  },
  {
   "cell_type": "code",
   "execution_count": 14,
   "metadata": {},
   "outputs": [],
   "source": [
    "#Mutual information\n",
    "\n",
    "def I(tokens:list[str], set_df:pd.DataFrame, distance:int) -> float:\n",
    "    HX = H_X(tokens, set_df, distance)\n",
    "    HY = H_Y(tokens, set_df, distance)\n",
    "    H = H_XY(tokens, set_df, distance)\n",
    "    return HX + HY - H"
   ]
  },
  {
   "cell_type": "code",
   "execution_count": 15,
   "metadata": {},
   "outputs": [
    {
     "name": "stderr",
     "output_type": "stream",
     "text": [
      "100%|██████████| 14161/14161 [00:18<00:00, 774.57it/s]\n",
      "100%|██████████| 14161/14161 [00:18<00:00, 785.18it/s]\n",
      "  0%|          | 6/14161 [02:05<82:22:42, 20.95s/it]\n"
     ]
    },
    {
     "ename": "KeyboardInterrupt",
     "evalue": "",
     "output_type": "error",
     "traceback": [
      "\u001b[1;31m---------------------------------------------------------------------------\u001b[0m",
      "\u001b[1;31mKeyboardInterrupt\u001b[0m                         Traceback (most recent call last)",
      "Cell \u001b[1;32mIn[15], line 1\u001b[0m\n\u001b[1;32m----> 1\u001b[0m \u001b[43mI\u001b[49m\u001b[43m(\u001b[49m\u001b[43mclean_tokens\u001b[49m\u001b[43m,\u001b[49m\u001b[43m \u001b[49m\u001b[43mpositions\u001b[49m\u001b[43m,\u001b[49m\u001b[43m \u001b[49m\u001b[38;5;241;43m2\u001b[39;49m\u001b[43m)\u001b[49m\n",
      "Cell \u001b[1;32mIn[14], line 6\u001b[0m, in \u001b[0;36mI\u001b[1;34m(tokens, set_df, distance)\u001b[0m\n\u001b[0;32m      4\u001b[0m HX \u001b[38;5;241m=\u001b[39m H_X(tokens, set_df, distance)\n\u001b[0;32m      5\u001b[0m HY \u001b[38;5;241m=\u001b[39m H_Y(tokens, set_df, distance)\n\u001b[1;32m----> 6\u001b[0m H \u001b[38;5;241m=\u001b[39m \u001b[43mH_XY\u001b[49m\u001b[43m(\u001b[49m\u001b[43mtokens\u001b[49m\u001b[43m,\u001b[49m\u001b[43m \u001b[49m\u001b[43mset_df\u001b[49m\u001b[43m,\u001b[49m\u001b[43m \u001b[49m\u001b[43mdistance\u001b[49m\u001b[43m)\u001b[49m\n\u001b[0;32m      7\u001b[0m \u001b[38;5;28;01mreturn\u001b[39;00m HX \u001b[38;5;241m+\u001b[39m HY \u001b[38;5;241m-\u001b[39m H\n",
      "Cell \u001b[1;32mIn[13], line 29\u001b[0m, in \u001b[0;36mH_XY\u001b[1;34m(tokens, set_df, distance)\u001b[0m\n\u001b[0;32m     27\u001b[0m \u001b[38;5;28;01mfor\u001b[39;00m x_token \u001b[38;5;129;01min\u001b[39;00m tqdm(set_df\u001b[38;5;241m.\u001b[39miloc[:,\u001b[38;5;241m0\u001b[39m]):\n\u001b[0;32m     28\u001b[0m     \u001b[38;5;28;01mfor\u001b[39;00m y_token \u001b[38;5;129;01min\u001b[39;00m set_df\u001b[38;5;241m.\u001b[39miloc[:,\u001b[38;5;241m0\u001b[39m]:\n\u001b[1;32m---> 29\u001b[0m         fr \u001b[38;5;241m=\u001b[39m \u001b[43mf\u001b[49m\u001b[43m(\u001b[49m\u001b[43mx_token\u001b[49m\u001b[43m,\u001b[49m\u001b[43m \u001b[49m\u001b[43my_token\u001b[49m\u001b[43m,\u001b[49m\u001b[43m \u001b[49m\u001b[43mtokens\u001b[49m\u001b[43m,\u001b[49m\u001b[43m \u001b[49m\u001b[43mset_df\u001b[49m\u001b[43m,\u001b[49m\u001b[43m \u001b[49m\u001b[43mdistance\u001b[49m\u001b[43m)\u001b[49m\n\u001b[0;32m     30\u001b[0m         \u001b[38;5;28;01mif\u001b[39;00m fr \u001b[38;5;241m!=\u001b[39m \u001b[38;5;241m0\u001b[39m:\n\u001b[0;32m     31\u001b[0m             H \u001b[38;5;241m+\u001b[39m\u001b[38;5;241m=\u001b[39m fr \u001b[38;5;241m*\u001b[39m log(fr)\n",
      "Cell \u001b[1;32mIn[7], line 8\u001b[0m, in \u001b[0;36mf\u001b[1;34m(x_token, y_token, tokens, set_df, distance)\u001b[0m\n\u001b[0;32m      6\u001b[0m \u001b[38;5;28;01mdef\u001b[39;00m \u001b[38;5;21mf\u001b[39m(x_token:\u001b[38;5;28mstr\u001b[39m, y_token:\u001b[38;5;28mstr\u001b[39m , tokens:\u001b[38;5;28mlist\u001b[39m[\u001b[38;5;28mstr\u001b[39m], set_df:pd\u001b[38;5;241m.\u001b[39mDataFrame, distance:\u001b[38;5;28mint\u001b[39m) \u001b[38;5;241m-\u001b[39m\u001b[38;5;241m>\u001b[39m \u001b[38;5;28mint\u001b[39m:\n\u001b[0;32m      7\u001b[0m     fr \u001b[38;5;241m=\u001b[39m \u001b[38;5;241m0\u001b[39m\n\u001b[1;32m----> 8\u001b[0m     \u001b[38;5;28;01mfor\u001b[39;00m i \u001b[38;5;129;01min\u001b[39;00m \u001b[43mget_pos\u001b[49m\u001b[43m(\u001b[49m\u001b[43mset_df\u001b[49m\u001b[43m,\u001b[49m\u001b[43m \u001b[49m\u001b[43mx_token\u001b[49m\u001b[43m)\u001b[49m:\n\u001b[0;32m      9\u001b[0m         y_pos \u001b[38;5;241m=\u001b[39m i\u001b[38;5;241m+\u001b[39mdistance\n\u001b[0;32m     10\u001b[0m         \u001b[38;5;28;01mif\u001b[39;00m y_pos \u001b[38;5;241m<\u001b[39m \u001b[38;5;28mlen\u001b[39m(tokens) \u001b[38;5;129;01mand\u001b[39;00m y_pos \u001b[38;5;241m>\u001b[39m\u001b[38;5;241m=\u001b[39m \u001b[38;5;241m0\u001b[39m \u001b[38;5;129;01mand\u001b[39;00m y_token \u001b[38;5;241m==\u001b[39m tokens[y_pos]:\n\u001b[0;32m     11\u001b[0m            \u001b[38;5;66;03m#print(True, y_pos/len(tokens), x_token, y_token)\u001b[39;00m\n",
      "Cell \u001b[1;32mIn[7], line 3\u001b[0m, in \u001b[0;36mget_pos\u001b[1;34m(df, token)\u001b[0m\n\u001b[0;32m      2\u001b[0m \u001b[38;5;28;01mdef\u001b[39;00m \u001b[38;5;21mget_pos\u001b[39m(df, token):\n\u001b[1;32m----> 3\u001b[0m     pos \u001b[38;5;241m=\u001b[39m \u001b[43mdf\u001b[49m\u001b[38;5;241;43m.\u001b[39;49m\u001b[43mloc\u001b[49m\u001b[43m[\u001b[49m\u001b[43mdf\u001b[49m\u001b[43m[\u001b[49m\u001b[38;5;124;43m'\u001b[39;49m\u001b[38;5;124;43mToken\u001b[39;49m\u001b[38;5;124;43m'\u001b[39;49m\u001b[43m]\u001b[49m\u001b[43m \u001b[49m\u001b[38;5;241;43m==\u001b[39;49m\u001b[43m \u001b[49m\u001b[43mtoken\u001b[49m\u001b[43m,\u001b[49m\u001b[43m \u001b[49m\u001b[38;5;124;43m'\u001b[39;49m\u001b[38;5;124;43mIndex\u001b[39;49m\u001b[38;5;124;43m'\u001b[39;49m\u001b[43m]\u001b[49m\u001b[38;5;241m.\u001b[39miloc[\u001b[38;5;241m0\u001b[39m]\n\u001b[0;32m      4\u001b[0m     \u001b[38;5;28;01mreturn\u001b[39;00m pos\n",
      "File \u001b[1;32mc:\\Users\\hugo_\\anaconda3\\envs\\IQL\\Lib\\site-packages\\pandas\\core\\indexing.py:1184\u001b[0m, in \u001b[0;36m_LocationIndexer.__getitem__\u001b[1;34m(self, key)\u001b[0m\n\u001b[0;32m   1182\u001b[0m     \u001b[38;5;28;01mif\u001b[39;00m \u001b[38;5;28mself\u001b[39m\u001b[38;5;241m.\u001b[39m_is_scalar_access(key):\n\u001b[0;32m   1183\u001b[0m         \u001b[38;5;28;01mreturn\u001b[39;00m \u001b[38;5;28mself\u001b[39m\u001b[38;5;241m.\u001b[39mobj\u001b[38;5;241m.\u001b[39m_get_value(\u001b[38;5;241m*\u001b[39mkey, takeable\u001b[38;5;241m=\u001b[39m\u001b[38;5;28mself\u001b[39m\u001b[38;5;241m.\u001b[39m_takeable)\n\u001b[1;32m-> 1184\u001b[0m     \u001b[38;5;28;01mreturn\u001b[39;00m \u001b[38;5;28;43mself\u001b[39;49m\u001b[38;5;241;43m.\u001b[39;49m\u001b[43m_getitem_tuple\u001b[49m\u001b[43m(\u001b[49m\u001b[43mkey\u001b[49m\u001b[43m)\u001b[49m\n\u001b[0;32m   1185\u001b[0m \u001b[38;5;28;01melse\u001b[39;00m:\n\u001b[0;32m   1186\u001b[0m     \u001b[38;5;66;03m# we by definition only have the 0th axis\u001b[39;00m\n\u001b[0;32m   1187\u001b[0m     axis \u001b[38;5;241m=\u001b[39m \u001b[38;5;28mself\u001b[39m\u001b[38;5;241m.\u001b[39maxis \u001b[38;5;129;01mor\u001b[39;00m \u001b[38;5;241m0\u001b[39m\n",
      "File \u001b[1;32mc:\\Users\\hugo_\\anaconda3\\envs\\IQL\\Lib\\site-packages\\pandas\\core\\indexing.py:1368\u001b[0m, in \u001b[0;36m_LocIndexer._getitem_tuple\u001b[1;34m(self, tup)\u001b[0m\n\u001b[0;32m   1366\u001b[0m \u001b[38;5;28;01mwith\u001b[39;00m suppress(IndexingError):\n\u001b[0;32m   1367\u001b[0m     tup \u001b[38;5;241m=\u001b[39m \u001b[38;5;28mself\u001b[39m\u001b[38;5;241m.\u001b[39m_expand_ellipsis(tup)\n\u001b[1;32m-> 1368\u001b[0m     \u001b[38;5;28;01mreturn\u001b[39;00m \u001b[38;5;28;43mself\u001b[39;49m\u001b[38;5;241;43m.\u001b[39;49m\u001b[43m_getitem_lowerdim\u001b[49m\u001b[43m(\u001b[49m\u001b[43mtup\u001b[49m\u001b[43m)\u001b[49m\n\u001b[0;32m   1370\u001b[0m \u001b[38;5;66;03m# no multi-index, so validate all of the indexers\u001b[39;00m\n\u001b[0;32m   1371\u001b[0m tup \u001b[38;5;241m=\u001b[39m \u001b[38;5;28mself\u001b[39m\u001b[38;5;241m.\u001b[39m_validate_tuple_indexer(tup)\n",
      "File \u001b[1;32mc:\\Users\\hugo_\\anaconda3\\envs\\IQL\\Lib\\site-packages\\pandas\\core\\indexing.py:1089\u001b[0m, in \u001b[0;36m_LocationIndexer._getitem_lowerdim\u001b[1;34m(self, tup)\u001b[0m\n\u001b[0;32m   1087\u001b[0m             \u001b[38;5;28;01mreturn\u001b[39;00m section\n\u001b[0;32m   1088\u001b[0m         \u001b[38;5;66;03m# This is an elided recursive call to iloc/loc\u001b[39;00m\n\u001b[1;32m-> 1089\u001b[0m         \u001b[38;5;28;01mreturn\u001b[39;00m \u001b[38;5;28;43mgetattr\u001b[39;49m\u001b[43m(\u001b[49m\u001b[43msection\u001b[49m\u001b[43m,\u001b[49m\u001b[43m \u001b[49m\u001b[38;5;28;43mself\u001b[39;49m\u001b[38;5;241;43m.\u001b[39;49m\u001b[43mname\u001b[49m\u001b[43m)\u001b[49m\u001b[43m[\u001b[49m\u001b[43mnew_key\u001b[49m\u001b[43m]\u001b[49m\n\u001b[0;32m   1091\u001b[0m \u001b[38;5;28;01mraise\u001b[39;00m IndexingError(\u001b[38;5;124m\"\u001b[39m\u001b[38;5;124mnot applicable\u001b[39m\u001b[38;5;124m\"\u001b[39m)\n",
      "File \u001b[1;32mc:\\Users\\hugo_\\anaconda3\\envs\\IQL\\Lib\\site-packages\\pandas\\core\\indexing.py:1191\u001b[0m, in \u001b[0;36m_LocationIndexer.__getitem__\u001b[1;34m(self, key)\u001b[0m\n\u001b[0;32m   1189\u001b[0m maybe_callable \u001b[38;5;241m=\u001b[39m com\u001b[38;5;241m.\u001b[39mapply_if_callable(key, \u001b[38;5;28mself\u001b[39m\u001b[38;5;241m.\u001b[39mobj)\n\u001b[0;32m   1190\u001b[0m maybe_callable \u001b[38;5;241m=\u001b[39m \u001b[38;5;28mself\u001b[39m\u001b[38;5;241m.\u001b[39m_check_deprecated_callable_usage(key, maybe_callable)\n\u001b[1;32m-> 1191\u001b[0m \u001b[38;5;28;01mreturn\u001b[39;00m \u001b[38;5;28;43mself\u001b[39;49m\u001b[38;5;241;43m.\u001b[39;49m\u001b[43m_getitem_axis\u001b[49m\u001b[43m(\u001b[49m\u001b[43mmaybe_callable\u001b[49m\u001b[43m,\u001b[49m\u001b[43m \u001b[49m\u001b[43maxis\u001b[49m\u001b[38;5;241;43m=\u001b[39;49m\u001b[43maxis\u001b[49m\u001b[43m)\u001b[49m\n",
      "File \u001b[1;32mc:\\Users\\hugo_\\anaconda3\\envs\\IQL\\Lib\\site-packages\\pandas\\core\\indexing.py:1413\u001b[0m, in \u001b[0;36m_LocIndexer._getitem_axis\u001b[1;34m(self, key, axis)\u001b[0m\n\u001b[0;32m   1411\u001b[0m     \u001b[38;5;28;01mreturn\u001b[39;00m \u001b[38;5;28mself\u001b[39m\u001b[38;5;241m.\u001b[39m_get_slice_axis(key, axis\u001b[38;5;241m=\u001b[39maxis)\n\u001b[0;32m   1412\u001b[0m \u001b[38;5;28;01melif\u001b[39;00m com\u001b[38;5;241m.\u001b[39mis_bool_indexer(key):\n\u001b[1;32m-> 1413\u001b[0m     \u001b[38;5;28;01mreturn\u001b[39;00m \u001b[38;5;28;43mself\u001b[39;49m\u001b[38;5;241;43m.\u001b[39;49m\u001b[43m_getbool_axis\u001b[49m\u001b[43m(\u001b[49m\u001b[43mkey\u001b[49m\u001b[43m,\u001b[49m\u001b[43m \u001b[49m\u001b[43maxis\u001b[49m\u001b[38;5;241;43m=\u001b[39;49m\u001b[43maxis\u001b[49m\u001b[43m)\u001b[49m\n\u001b[0;32m   1414\u001b[0m \u001b[38;5;28;01melif\u001b[39;00m is_list_like_indexer(key):\n\u001b[0;32m   1415\u001b[0m     \u001b[38;5;66;03m# an iterable multi-selection\u001b[39;00m\n\u001b[0;32m   1416\u001b[0m     \u001b[38;5;28;01mif\u001b[39;00m \u001b[38;5;129;01mnot\u001b[39;00m (\u001b[38;5;28misinstance\u001b[39m(key, \u001b[38;5;28mtuple\u001b[39m) \u001b[38;5;129;01mand\u001b[39;00m \u001b[38;5;28misinstance\u001b[39m(labels, MultiIndex)):\n",
      "File \u001b[1;32mc:\\Users\\hugo_\\anaconda3\\envs\\IQL\\Lib\\site-packages\\pandas\\core\\indexing.py:1210\u001b[0m, in \u001b[0;36m_LocationIndexer._getbool_axis\u001b[1;34m(self, key, axis)\u001b[0m\n\u001b[0;32m   1208\u001b[0m labels \u001b[38;5;241m=\u001b[39m \u001b[38;5;28mself\u001b[39m\u001b[38;5;241m.\u001b[39mobj\u001b[38;5;241m.\u001b[39m_get_axis(axis)\n\u001b[0;32m   1209\u001b[0m key \u001b[38;5;241m=\u001b[39m check_bool_indexer(labels, key)\n\u001b[1;32m-> 1210\u001b[0m inds \u001b[38;5;241m=\u001b[39m \u001b[43mkey\u001b[49m\u001b[38;5;241;43m.\u001b[39;49m\u001b[43mnonzero\u001b[49m\u001b[43m(\u001b[49m\u001b[43m)\u001b[49m[\u001b[38;5;241m0\u001b[39m]\n\u001b[0;32m   1211\u001b[0m \u001b[38;5;28;01mreturn\u001b[39;00m \u001b[38;5;28mself\u001b[39m\u001b[38;5;241m.\u001b[39mobj\u001b[38;5;241m.\u001b[39m_take_with_is_copy(inds, axis\u001b[38;5;241m=\u001b[39maxis)\n",
      "\u001b[1;31mKeyboardInterrupt\u001b[0m: "
     ]
    }
   ],
   "source": [
    "I(clean_tokens, positions, 2) #This takes too long (ask ramon)"
   ]
  },
  {
   "cell_type": "code",
   "execution_count": 39,
   "metadata": {},
   "outputs": [
    {
     "name": "stderr",
     "output_type": "stream",
     "text": [
      "100%|██████████| 14161/14161 [00:18<00:00, 783.90it/s]"
     ]
    },
    {
     "name": "stdout",
     "output_type": "stream",
     "text": [
      "True 22 22\n"
     ]
    },
    {
     "name": "stderr",
     "output_type": "stream",
     "text": [
      "\n"
     ]
    }
   ],
   "source": [
    "fast = fast_f_y('隨即', clean_tokens, positions, 2)\n",
    "notfast = f_y('隨即', clean_tokens, positions, 2)\n",
    "print(fast == notfast, fast, notfast)"
   ]
  },
  {
   "cell_type": "code",
   "execution_count": null,
   "metadata": {},
   "outputs": [
    {
     "data": {
      "text/plain": [
       "93188"
      ]
     },
     "execution_count": 10,
     "metadata": {},
     "output_type": "execute_result"
    }
   ],
   "source": [
    "len(clean_tokens)"
   ]
  }
 ],
 "metadata": {
  "kernelspec": {
   "display_name": "IQL",
   "language": "python",
   "name": "python3"
  },
  "language_info": {
   "codemirror_mode": {
    "name": "ipython",
    "version": 3
   },
   "file_extension": ".py",
   "mimetype": "text/x-python",
   "name": "python",
   "nbconvert_exporter": "python",
   "pygments_lexer": "ipython3",
   "version": "3.12.2"
  }
 },
 "nbformat": 4,
 "nbformat_minor": 2
}
