{
 "cells": [
  {
   "cell_type": "code",
   "execution_count": 1,
   "metadata": {},
   "outputs": [],
   "source": [
    "import pandas as pd\n",
    "from tqdm import tqdm\n",
    "import numpy as np\n",
    "from collections import Counter\n",
    "import plotly.graph_objects as go\n",
    "import plotly.express as px\n",
    "import os\n",
    "import re #Regular expressions\n",
    "\n",
    "#Tokenizers \n",
    "import spacy\n",
    "import jieba\n",
    "import es_core_news_sm, en_core_web_sm, ja_core_news_sm#, pl_core_news_sm, de_core_news_sm #spacy models\n",
    "\n",
    "#NLP objects for (as we can't use shortcuts for loading the objects)\n",
    "nlp_es= spacy.load(\"es_core_news_sm\") #Spanish\n",
    "nlp_ja= spacy.load(\"ja_core_news_sm\") #Japanese\n",
    "nlp_en= spacy.load(\"en_core_web_sm\") #English\n",
    "jieba.set_dictionary('data/dict.txt.big') #Chinese\n",
    "from spacy.lang.ru import Russian\n",
    "nlp_ru= Russian()"
   ]
  },
  {
   "cell_type": "code",
   "execution_count": 2,
   "metadata": {},
   "outputs": [],
   "source": [
    "#Extracts raw text from each file \n",
    "codes_langs= ['zh','es', 'en', 'ru', 'ja'] #ISO code of languages: chinese, spanish, english, russian, japanese.\n",
    "def extract_raw_texts(list_of_codes):\n",
    "  raw_files_texts= {}\n",
    "  path= \"data/no_boilerplate/\"\n",
    "  all_file_names= [file for file in os.listdir(path) if file.endswith('.txt')] #enlists names of .txt files \n",
    "  for language in list_of_codes:\n",
    "    files= [f for f in all_file_names if re.findall(language, f)] #separating files by language \n",
    "    number_texts= int(len(files))\n",
    "    for f in files:\n",
    "       raw= []\n",
    "       with open(path + f, \"r\", encoding=\"utf-8\") as file:\n",
    "         t= file.read()\n",
    "         raw.append(t)\n",
    "       raw_files_texts[f]=raw\n",
    "  return raw_files_texts\n",
    "\n",
    "#Tokenizer \n",
    "\n",
    "def tokenizer(text, model_lang):\n",
    "    nlp= model_lang #Opens spacy object\n",
    "    nlp.max_length = 9000000\n",
    "    doc=nlp(text) #Process text with spacy \n",
    "    tokens = [token.text for token in doc if not token.is_space and not token.is_punct and not token.is_digit]\n",
    "    return tokens\n",
    "\n",
    "def tokens(dict_raw_texts): #takes real_tokenizer and filters by language to tokenize\n",
    "    tokens_langs= {} #dictionary to store output\n",
    "    for item in list(dict_raw_texts.keys()):\n",
    "        print(item)\n",
    "        if 'es' in item:\n",
    "            text= dict_raw_texts[item][0] #gets text from dict in raw_files_names \n",
    "            model_lang= nlp_es #loads corresponding model\n",
    "            tokens= tokenizer(text, model_lang) #tokenizes\n",
    "            tokens_langs[item]=tokens #appends to output dictionary \n",
    "        elif 'en' in item:\n",
    "            text= dict_raw_texts[item][0] #gets text from dict in raw_files_names \n",
    "            model_lang= nlp_en #loads corresponding model\n",
    "            tokens= tokenizer(text, model_lang) #tokenizes\n",
    "            tokens_langs[item]=tokens #appends to output dictionary \n",
    "        elif 'zh' in item:\n",
    "            punc= [\"！？｡。＂＃＄％＆＇（）＊＋，－／：；＜＝＞＠［＼］＾＿｀｛｜｝～｟｠｢｣､、〃《》「」『』【】〔〕〖〗〘〙〚〛〜〝〞〟〰〾〿–—‘’‛“”„‟…‧﹏.　 ﹔\\\\n[]﹍\\\\n 「\", \"\\n\", \", \",\" \",\"，\",\": \",'。',\"-\"]\n",
    "            text= dict_raw_texts[item][0]\n",
    "            tok= jieba.lcut(text, cut_all = False)\n",
    "            tokens= [t for t in tok if t not in punc]\n",
    "            tokens_langs[item]=tokens\n",
    "        elif 'ru' in item:\n",
    "            text= dict_raw_texts[item][0]\n",
    "            model_lang= nlp_ru \n",
    "            tokens= tokenizer(text, model_lang) \n",
    "            tokens_langs[item]=tokens \n",
    "    return tokens_langs\n",
    "\n",
    "#Dictionary for the pairs of words\n",
    "def create_dataframe(words_list, distance):\n",
    "    #Find all the pairs at given distance \n",
    "    pairs = [(words_list[i], words_list[i + distance], i) for i in range(len(words_list) - distance)]\n",
    "    #Save into a dataframe\n",
    "    df = pd.DataFrame(pairs, columns=['Token x', 'Token y', 'Position of Token x'])\n",
    "    df['Distance'] = distance\n",
    "    return df\n",
    "\n",
    "def collect_positions(df):\n",
    "    df_grouped = df.groupby(['Token x', 'Token y']).agg({'Position of Token x': list}).reset_index()\n",
    "    return df_grouped\n",
    "\n",
    "#Entropies\n",
    "def H_X(pairs) -> float:\n",
    "    token_counts = Counter(pairs[0])\n",
    "    F = len(pairs[0])\n",
    "    H = 0\n",
    "\n",
    "    for token_x, fx in token_counts.items():\n",
    "        if fx != 0:\n",
    "            H += fx * np.log(fx)\n",
    "\n",
    "    H /= F\n",
    "    H = np.log(F) - H\n",
    "\n",
    "    return H\n",
    "\n",
    "def H_Y(pairs) -> float:\n",
    "    token_counts = Counter(pairs[1])\n",
    "    F = len(pairs[0])\n",
    "    H = 0\n",
    "\n",
    "    for token_y, fy in token_counts.items():\n",
    "        if fy != 0:\n",
    "            H += fy * np.log(fy)\n",
    "\n",
    "    H /= F\n",
    "    H = np.log(F) - H\n",
    "    return H\n",
    "\n",
    "def H_XY(pairs, pairs_gr) -> float:\n",
    "    F = len(pairs[0])\n",
    "    H = 0\n",
    "    for pair in pairs_gr:\n",
    "        fr = len(pair[2])\n",
    "        if fr != 0:\n",
    "            H += fr * np.log(fr)\n",
    "\n",
    "    H /= F\n",
    "    H = np.log(F) - H\n",
    "\n",
    "    return H\n",
    "\n",
    "#Mutual information\n",
    "\n",
    "def I(pairs, pairs_gr) -> float: \n",
    "    HX = H_X(pairs)\n",
    "    HY = H_Y(pairs)\n",
    "    H = H_XY(pairs, pairs_gr)\n",
    "    return HX + HY - H\n",
    "\n",
    "def mutual_information(tokens, max_d):\n",
    "    MI = np.zeros(max_d)\n",
    "    for i in range(1, max_d):\n",
    "\n",
    "        pairs = create_dataframe(tokens, i)\n",
    "        pairs_grouped = collect_positions(pairs)\n",
    "\n",
    "        pairs_np = np.transpose(pairs.to_numpy())\n",
    "        pairs_grouped_np = pairs_grouped.to_numpy()\n",
    "\n",
    "        MI[i] = I(pairs_np, pairs_grouped_np)\n",
    "    return MI"
   ]
  },
  {
   "cell_type": "code",
   "execution_count": 3,
   "metadata": {},
   "outputs": [],
   "source": [
    "raw_texts= extract_raw_texts(codes_langs)"
   ]
  },
  {
   "cell_type": "code",
   "execution_count": 4,
   "metadata": {},
   "outputs": [
    {
     "name": "stderr",
     "output_type": "stream",
     "text": [
      "Building prefix dict from c:\\Users\\hugo_\\Desktop\\iql_lab3\\data\\dict.txt.big ...\n",
      "Loading model from cache C:\\Users\\hugo_\\AppData\\Local\\Temp\\jieba.uceaac3f4f1db143f008c31874e8bc8f8.cache\n"
     ]
    },
    {
     "name": "stdout",
     "output_type": "stream",
     "text": [
      "zh_book1.txt\n"
     ]
    },
    {
     "name": "stderr",
     "output_type": "stream",
     "text": [
      "Loading model cost 1.714 seconds.\n",
      "Prefix dict has been built successfully.\n"
     ]
    },
    {
     "name": "stdout",
     "output_type": "stream",
     "text": [
      "zh_book2.txt\n",
      "es_book1.txt\n",
      "es_book2.txt\n",
      "en_book3.txt\n",
      "en_macbeth.txt\n",
      "en_quixote.txt\n",
      "ru_book1.txt\n",
      "ru_book2.txt\n",
      "ru_book3.txt\n"
     ]
    }
   ],
   "source": [
    "tokenized_texts= tokens(raw_texts)"
   ]
  },
  {
   "cell_type": "code",
   "execution_count": 5,
   "metadata": {},
   "outputs": [
    {
     "name": "stdout",
     "output_type": "stream",
     "text": [
      "# of tokens in zh_book1.txt\t -->\t  108918\n",
      "# of tokens in zh_book2.txt\t -->\t  88237\n",
      "# of tokens in es_book1.txt\t -->\t  188480\n",
      "# of tokens in es_book2.txt\t -->\t  51028\n",
      "# of tokens in en_book3.txt\t -->\t  13219\n",
      "# of tokens in en_macbeth.txt\t -->\t  18747\n",
      "# of tokens in en_quixote.txt\t -->\t  62631\n",
      "# of tokens in ru_book1.txt\t -->\t  3738\n",
      "# of tokens in ru_book2.txt\t -->\t  17830\n",
      "# of tokens in ru_book3.txt\t -->\t  6023\n"
     ]
    }
   ],
   "source": [
    "for key in tokenized_texts.keys():\n",
    "    tokens = tokenized_texts[key]\n",
    "    print(\"# of tokens in \"+key+\"\\t -->\\t \",len(tokens))"
   ]
  },
  {
   "cell_type": "code",
   "execution_count": null,
   "metadata": {},
   "outputs": [],
   "source": []
  },
  {
   "cell_type": "code",
   "execution_count": null,
   "metadata": {},
   "outputs": [],
   "source": [
    "for key in tokenized_texts.keys():\n",
    "    tokens = tokenized_texts[key]\n",
    "\n",
    "    MI = mutual_information(tokens, 10)\n",
    "\n",
    "    print(MI)"
   ]
  },
  {
   "cell_type": "code",
   "execution_count": 7,
   "metadata": {},
   "outputs": [
    {
     "name": "stdout",
     "output_type": "stream",
     "text": [
      "[0.         4.14746325 3.9999998  3.92327878 3.92286143 3.90103882\n",
      " 3.89736819 3.89025172 3.89059414 3.88793221 3.88299102 3.88841594\n",
      " 3.88389643 3.87846295 3.88353184 3.88352941 3.8803807  3.88809519\n",
      " 3.88299228 3.88024125 3.88116169 3.88327248 3.87965437 3.87843692\n",
      " 3.87846146 3.87712468 3.88364628 3.87943087 3.88169933 3.88525184\n",
      " 3.88706069 3.87769807 3.88168711 3.8808143  3.88360101 3.88125044\n",
      " 3.87994639 3.8786995  3.87975323 3.88839786 3.87733383 3.88256563\n",
      " 3.87892979 3.88102478 3.87127757 3.88163412 3.87646517 3.88376992\n",
      " 3.88330657 3.88242943]\n"
     ]
    }
   ],
   "source": [
    "tokens = tokenized_texts[\"en_macbeth.txt\"]\n",
    "\n",
    "MI = mutual_information(tokens, 50)\n",
    "\n",
    "print(MI)"
   ]
  },
  {
   "cell_type": "code",
   "execution_count": 8,
   "metadata": {},
   "outputs": [
    {
     "data": {
      "application/vnd.plotly.v1+json": {
       "config": {
        "plotlyServerURL": "https://plot.ly"
       },
       "data": [
        {
         "mode": "markers",
         "type": "scatter",
         "x": [
          1,
          2,
          3,
          4,
          5,
          6,
          7,
          8,
          9,
          10,
          11,
          12,
          13,
          14,
          15,
          16,
          17,
          18,
          19,
          20,
          21,
          22,
          23,
          24,
          25,
          26,
          27,
          28,
          29,
          30,
          31,
          32,
          33,
          34,
          35,
          36,
          37,
          38,
          39,
          40,
          41,
          42,
          43,
          44,
          45,
          46,
          47,
          48,
          49
         ],
         "y": [
          4.147463252490869,
          3.9999997960647367,
          3.923278775615932,
          3.922861427094947,
          3.901038819782487,
          3.897368190584798,
          3.8902517160358503,
          3.8905941445712138,
          3.88793220750998,
          3.8829910164185986,
          3.8884159356548196,
          3.8838964324630414,
          3.878462945760271,
          3.883531842554982,
          3.88352940618163,
          3.8803807032704576,
          3.8880951914095725,
          3.882992282931788,
          3.880241245978027,
          3.8811616934753843,
          3.8832724790030415,
          3.8796543736790774,
          3.878436915254447,
          3.8784614559288606,
          3.8771246790900182,
          3.883646279277176,
          3.8794308669394884,
          3.8816993270920985,
          3.8852518383706816,
          3.8870606898871696,
          3.8776980688760148,
          3.8816871064594753,
          3.8808143026352173,
          3.8836010097666485,
          3.8812504429804537,
          3.879946391780818,
          3.8786994973822573,
          3.8797532262643752,
          3.8883978571925546,
          3.8773338339483523,
          3.882565631357245,
          3.878929793716253,
          3.8810247788894205,
          3.8712775698540636,
          3.8816341200934765,
          3.8764651697319916,
          3.883769923833606,
          3.8833065699217286,
          3.882429426217284
         ]
        }
       ],
       "layout": {
        "template": {
         "data": {
          "bar": [
           {
            "error_x": {
             "color": "#2a3f5f"
            },
            "error_y": {
             "color": "#2a3f5f"
            },
            "marker": {
             "line": {
              "color": "#E5ECF6",
              "width": 0.5
             },
             "pattern": {
              "fillmode": "overlay",
              "size": 10,
              "solidity": 0.2
             }
            },
            "type": "bar"
           }
          ],
          "barpolar": [
           {
            "marker": {
             "line": {
              "color": "#E5ECF6",
              "width": 0.5
             },
             "pattern": {
              "fillmode": "overlay",
              "size": 10,
              "solidity": 0.2
             }
            },
            "type": "barpolar"
           }
          ],
          "carpet": [
           {
            "aaxis": {
             "endlinecolor": "#2a3f5f",
             "gridcolor": "white",
             "linecolor": "white",
             "minorgridcolor": "white",
             "startlinecolor": "#2a3f5f"
            },
            "baxis": {
             "endlinecolor": "#2a3f5f",
             "gridcolor": "white",
             "linecolor": "white",
             "minorgridcolor": "white",
             "startlinecolor": "#2a3f5f"
            },
            "type": "carpet"
           }
          ],
          "choropleth": [
           {
            "colorbar": {
             "outlinewidth": 0,
             "ticks": ""
            },
            "type": "choropleth"
           }
          ],
          "contour": [
           {
            "colorbar": {
             "outlinewidth": 0,
             "ticks": ""
            },
            "colorscale": [
             [
              0,
              "#0d0887"
             ],
             [
              0.1111111111111111,
              "#46039f"
             ],
             [
              0.2222222222222222,
              "#7201a8"
             ],
             [
              0.3333333333333333,
              "#9c179e"
             ],
             [
              0.4444444444444444,
              "#bd3786"
             ],
             [
              0.5555555555555556,
              "#d8576b"
             ],
             [
              0.6666666666666666,
              "#ed7953"
             ],
             [
              0.7777777777777778,
              "#fb9f3a"
             ],
             [
              0.8888888888888888,
              "#fdca26"
             ],
             [
              1,
              "#f0f921"
             ]
            ],
            "type": "contour"
           }
          ],
          "contourcarpet": [
           {
            "colorbar": {
             "outlinewidth": 0,
             "ticks": ""
            },
            "type": "contourcarpet"
           }
          ],
          "heatmap": [
           {
            "colorbar": {
             "outlinewidth": 0,
             "ticks": ""
            },
            "colorscale": [
             [
              0,
              "#0d0887"
             ],
             [
              0.1111111111111111,
              "#46039f"
             ],
             [
              0.2222222222222222,
              "#7201a8"
             ],
             [
              0.3333333333333333,
              "#9c179e"
             ],
             [
              0.4444444444444444,
              "#bd3786"
             ],
             [
              0.5555555555555556,
              "#d8576b"
             ],
             [
              0.6666666666666666,
              "#ed7953"
             ],
             [
              0.7777777777777778,
              "#fb9f3a"
             ],
             [
              0.8888888888888888,
              "#fdca26"
             ],
             [
              1,
              "#f0f921"
             ]
            ],
            "type": "heatmap"
           }
          ],
          "heatmapgl": [
           {
            "colorbar": {
             "outlinewidth": 0,
             "ticks": ""
            },
            "colorscale": [
             [
              0,
              "#0d0887"
             ],
             [
              0.1111111111111111,
              "#46039f"
             ],
             [
              0.2222222222222222,
              "#7201a8"
             ],
             [
              0.3333333333333333,
              "#9c179e"
             ],
             [
              0.4444444444444444,
              "#bd3786"
             ],
             [
              0.5555555555555556,
              "#d8576b"
             ],
             [
              0.6666666666666666,
              "#ed7953"
             ],
             [
              0.7777777777777778,
              "#fb9f3a"
             ],
             [
              0.8888888888888888,
              "#fdca26"
             ],
             [
              1,
              "#f0f921"
             ]
            ],
            "type": "heatmapgl"
           }
          ],
          "histogram": [
           {
            "marker": {
             "pattern": {
              "fillmode": "overlay",
              "size": 10,
              "solidity": 0.2
             }
            },
            "type": "histogram"
           }
          ],
          "histogram2d": [
           {
            "colorbar": {
             "outlinewidth": 0,
             "ticks": ""
            },
            "colorscale": [
             [
              0,
              "#0d0887"
             ],
             [
              0.1111111111111111,
              "#46039f"
             ],
             [
              0.2222222222222222,
              "#7201a8"
             ],
             [
              0.3333333333333333,
              "#9c179e"
             ],
             [
              0.4444444444444444,
              "#bd3786"
             ],
             [
              0.5555555555555556,
              "#d8576b"
             ],
             [
              0.6666666666666666,
              "#ed7953"
             ],
             [
              0.7777777777777778,
              "#fb9f3a"
             ],
             [
              0.8888888888888888,
              "#fdca26"
             ],
             [
              1,
              "#f0f921"
             ]
            ],
            "type": "histogram2d"
           }
          ],
          "histogram2dcontour": [
           {
            "colorbar": {
             "outlinewidth": 0,
             "ticks": ""
            },
            "colorscale": [
             [
              0,
              "#0d0887"
             ],
             [
              0.1111111111111111,
              "#46039f"
             ],
             [
              0.2222222222222222,
              "#7201a8"
             ],
             [
              0.3333333333333333,
              "#9c179e"
             ],
             [
              0.4444444444444444,
              "#bd3786"
             ],
             [
              0.5555555555555556,
              "#d8576b"
             ],
             [
              0.6666666666666666,
              "#ed7953"
             ],
             [
              0.7777777777777778,
              "#fb9f3a"
             ],
             [
              0.8888888888888888,
              "#fdca26"
             ],
             [
              1,
              "#f0f921"
             ]
            ],
            "type": "histogram2dcontour"
           }
          ],
          "mesh3d": [
           {
            "colorbar": {
             "outlinewidth": 0,
             "ticks": ""
            },
            "type": "mesh3d"
           }
          ],
          "parcoords": [
           {
            "line": {
             "colorbar": {
              "outlinewidth": 0,
              "ticks": ""
             }
            },
            "type": "parcoords"
           }
          ],
          "pie": [
           {
            "automargin": true,
            "type": "pie"
           }
          ],
          "scatter": [
           {
            "fillpattern": {
             "fillmode": "overlay",
             "size": 10,
             "solidity": 0.2
            },
            "type": "scatter"
           }
          ],
          "scatter3d": [
           {
            "line": {
             "colorbar": {
              "outlinewidth": 0,
              "ticks": ""
             }
            },
            "marker": {
             "colorbar": {
              "outlinewidth": 0,
              "ticks": ""
             }
            },
            "type": "scatter3d"
           }
          ],
          "scattercarpet": [
           {
            "marker": {
             "colorbar": {
              "outlinewidth": 0,
              "ticks": ""
             }
            },
            "type": "scattercarpet"
           }
          ],
          "scattergeo": [
           {
            "marker": {
             "colorbar": {
              "outlinewidth": 0,
              "ticks": ""
             }
            },
            "type": "scattergeo"
           }
          ],
          "scattergl": [
           {
            "marker": {
             "colorbar": {
              "outlinewidth": 0,
              "ticks": ""
             }
            },
            "type": "scattergl"
           }
          ],
          "scattermapbox": [
           {
            "marker": {
             "colorbar": {
              "outlinewidth": 0,
              "ticks": ""
             }
            },
            "type": "scattermapbox"
           }
          ],
          "scatterpolar": [
           {
            "marker": {
             "colorbar": {
              "outlinewidth": 0,
              "ticks": ""
             }
            },
            "type": "scatterpolar"
           }
          ],
          "scatterpolargl": [
           {
            "marker": {
             "colorbar": {
              "outlinewidth": 0,
              "ticks": ""
             }
            },
            "type": "scatterpolargl"
           }
          ],
          "scatterternary": [
           {
            "marker": {
             "colorbar": {
              "outlinewidth": 0,
              "ticks": ""
             }
            },
            "type": "scatterternary"
           }
          ],
          "surface": [
           {
            "colorbar": {
             "outlinewidth": 0,
             "ticks": ""
            },
            "colorscale": [
             [
              0,
              "#0d0887"
             ],
             [
              0.1111111111111111,
              "#46039f"
             ],
             [
              0.2222222222222222,
              "#7201a8"
             ],
             [
              0.3333333333333333,
              "#9c179e"
             ],
             [
              0.4444444444444444,
              "#bd3786"
             ],
             [
              0.5555555555555556,
              "#d8576b"
             ],
             [
              0.6666666666666666,
              "#ed7953"
             ],
             [
              0.7777777777777778,
              "#fb9f3a"
             ],
             [
              0.8888888888888888,
              "#fdca26"
             ],
             [
              1,
              "#f0f921"
             ]
            ],
            "type": "surface"
           }
          ],
          "table": [
           {
            "cells": {
             "fill": {
              "color": "#EBF0F8"
             },
             "line": {
              "color": "white"
             }
            },
            "header": {
             "fill": {
              "color": "#C8D4E3"
             },
             "line": {
              "color": "white"
             }
            },
            "type": "table"
           }
          ]
         },
         "layout": {
          "annotationdefaults": {
           "arrowcolor": "#2a3f5f",
           "arrowhead": 0,
           "arrowwidth": 1
          },
          "autotypenumbers": "strict",
          "coloraxis": {
           "colorbar": {
            "outlinewidth": 0,
            "ticks": ""
           }
          },
          "colorscale": {
           "diverging": [
            [
             0,
             "#8e0152"
            ],
            [
             0.1,
             "#c51b7d"
            ],
            [
             0.2,
             "#de77ae"
            ],
            [
             0.3,
             "#f1b6da"
            ],
            [
             0.4,
             "#fde0ef"
            ],
            [
             0.5,
             "#f7f7f7"
            ],
            [
             0.6,
             "#e6f5d0"
            ],
            [
             0.7,
             "#b8e186"
            ],
            [
             0.8,
             "#7fbc41"
            ],
            [
             0.9,
             "#4d9221"
            ],
            [
             1,
             "#276419"
            ]
           ],
           "sequential": [
            [
             0,
             "#0d0887"
            ],
            [
             0.1111111111111111,
             "#46039f"
            ],
            [
             0.2222222222222222,
             "#7201a8"
            ],
            [
             0.3333333333333333,
             "#9c179e"
            ],
            [
             0.4444444444444444,
             "#bd3786"
            ],
            [
             0.5555555555555556,
             "#d8576b"
            ],
            [
             0.6666666666666666,
             "#ed7953"
            ],
            [
             0.7777777777777778,
             "#fb9f3a"
            ],
            [
             0.8888888888888888,
             "#fdca26"
            ],
            [
             1,
             "#f0f921"
            ]
           ],
           "sequentialminus": [
            [
             0,
             "#0d0887"
            ],
            [
             0.1111111111111111,
             "#46039f"
            ],
            [
             0.2222222222222222,
             "#7201a8"
            ],
            [
             0.3333333333333333,
             "#9c179e"
            ],
            [
             0.4444444444444444,
             "#bd3786"
            ],
            [
             0.5555555555555556,
             "#d8576b"
            ],
            [
             0.6666666666666666,
             "#ed7953"
            ],
            [
             0.7777777777777778,
             "#fb9f3a"
            ],
            [
             0.8888888888888888,
             "#fdca26"
            ],
            [
             1,
             "#f0f921"
            ]
           ]
          },
          "colorway": [
           "#636efa",
           "#EF553B",
           "#00cc96",
           "#ab63fa",
           "#FFA15A",
           "#19d3f3",
           "#FF6692",
           "#B6E880",
           "#FF97FF",
           "#FECB52"
          ],
          "font": {
           "color": "#2a3f5f"
          },
          "geo": {
           "bgcolor": "white",
           "lakecolor": "white",
           "landcolor": "#E5ECF6",
           "showlakes": true,
           "showland": true,
           "subunitcolor": "white"
          },
          "hoverlabel": {
           "align": "left"
          },
          "hovermode": "closest",
          "mapbox": {
           "style": "light"
          },
          "paper_bgcolor": "white",
          "plot_bgcolor": "#E5ECF6",
          "polar": {
           "angularaxis": {
            "gridcolor": "white",
            "linecolor": "white",
            "ticks": ""
           },
           "bgcolor": "#E5ECF6",
           "radialaxis": {
            "gridcolor": "white",
            "linecolor": "white",
            "ticks": ""
           }
          },
          "scene": {
           "xaxis": {
            "backgroundcolor": "#E5ECF6",
            "gridcolor": "white",
            "gridwidth": 2,
            "linecolor": "white",
            "showbackground": true,
            "ticks": "",
            "zerolinecolor": "white"
           },
           "yaxis": {
            "backgroundcolor": "#E5ECF6",
            "gridcolor": "white",
            "gridwidth": 2,
            "linecolor": "white",
            "showbackground": true,
            "ticks": "",
            "zerolinecolor": "white"
           },
           "zaxis": {
            "backgroundcolor": "#E5ECF6",
            "gridcolor": "white",
            "gridwidth": 2,
            "linecolor": "white",
            "showbackground": true,
            "ticks": "",
            "zerolinecolor": "white"
           }
          },
          "shapedefaults": {
           "line": {
            "color": "#2a3f5f"
           }
          },
          "ternary": {
           "aaxis": {
            "gridcolor": "white",
            "linecolor": "white",
            "ticks": ""
           },
           "baxis": {
            "gridcolor": "white",
            "linecolor": "white",
            "ticks": ""
           },
           "bgcolor": "#E5ECF6",
           "caxis": {
            "gridcolor": "white",
            "linecolor": "white",
            "ticks": ""
           }
          },
          "title": {
           "x": 0.05
          },
          "xaxis": {
           "automargin": true,
           "gridcolor": "white",
           "linecolor": "white",
           "ticks": "",
           "title": {
            "standoff": 15
           },
           "zerolinecolor": "white",
           "zerolinewidth": 2
          },
          "yaxis": {
           "automargin": true,
           "gridcolor": "white",
           "linecolor": "white",
           "ticks": "",
           "title": {
            "standoff": 15
           },
           "zerolinecolor": "white",
           "zerolinewidth": 2
          }
         }
        },
        "xaxis": {
         "range": [
          0,
          1.6989700043360187
         ],
         "title": {
          "text": "d"
         },
         "type": "log"
        },
        "yaxis": {
         "title": {
          "text": "I(d)"
         },
         "type": "log"
        }
       }
      }
     },
     "metadata": {},
     "output_type": "display_data"
    }
   ],
   "source": [
    "fig = go.Figure()\n",
    "fig.add_trace(go.Scatter(y=MI[1:], x=list(range(1, len(MI))), mode='markers'))\n",
    "fig.update_layout(xaxis=dict(range=[0, np.log10(len(MI))]))\n",
    "fig.update_layout(\n",
    "    xaxis_title=\"d\",\n",
    "    xaxis_type=\"log\",\n",
    "    yaxis_title=\"I(d)\",\n",
    "    yaxis_type=\"log\",\n",
    ")\n",
    "fig.show()"
   ]
  },
  {
   "cell_type": "code",
   "execution_count": 9,
   "metadata": {},
   "outputs": [],
   "source": [
    "import numpy as np\n",
    "import random\n",
    "from collections import Counter\n",
    "from scipy.stats import norm\n",
    "from multiprocessing import Pool, cpu_count\n",
    "\n",
    "# Shuffle the text\n",
    "def shuffle_text(tokens):\n",
    "    shuffled = tokens[:]\n",
    "    random.shuffle(shuffled)\n",
    "    return shuffled\n",
    "\n",
    "# Calculate the p-value\n",
    "def calculate_p_value(observed_mi, shuffled_mis):\n",
    "    mean_shuffled = np.mean(shuffled_mis)\n",
    "    std_shuffled = np.std(shuffled_mis)\n",
    "    z_score = (observed_mi - mean_shuffled) / std_shuffled\n",
    "    p_value = 1 - norm.cdf(z_score)\n",
    "    return p_value"
   ]
  },
  {
   "cell_type": "code",
   "execution_count": 11,
   "metadata": {},
   "outputs": [
    {
     "ename": "ValueError",
     "evalue": "setting an array element with a sequence. The requested array would exceed the maximum number of dimension of 1.",
     "output_type": "error",
     "traceback": [
      "\u001b[1;31m---------------------------------------------------------------------------\u001b[0m",
      "\u001b[1;31mValueError\u001b[0m                                Traceback (most recent call last)",
      "Cell \u001b[1;32mIn[11], line 16\u001b[0m\n\u001b[0;32m     14\u001b[0m \u001b[38;5;28;01mfor\u001b[39;00m i \u001b[38;5;129;01min\u001b[39;00m \u001b[38;5;28mrange\u001b[39m(num_shuffles):\n\u001b[0;32m     15\u001b[0m     shuffled_tokens \u001b[38;5;241m=\u001b[39m shuffle_text(tokens)\n\u001b[1;32m---> 16\u001b[0m     \u001b[43mshuffled_mis\u001b[49m\u001b[43m[\u001b[49m\u001b[43mi\u001b[49m\u001b[43m,\u001b[49m\u001b[43m \u001b[49m\u001b[43m:\u001b[49m\u001b[43m]\u001b[49m \u001b[38;5;241m=\u001b[39m [mutual_information(shuffled_tokens, d) \u001b[38;5;28;01mfor\u001b[39;00m d \u001b[38;5;129;01min\u001b[39;00m \u001b[38;5;28mrange\u001b[39m(\u001b[38;5;241m1\u001b[39m, d_max \u001b[38;5;241m+\u001b[39m \u001b[38;5;241m1\u001b[39m)]\n\u001b[0;32m     18\u001b[0m \u001b[38;5;66;03m# Calculate p-values\u001b[39;00m\n\u001b[0;32m     19\u001b[0m p_values \u001b[38;5;241m=\u001b[39m [calculate_p_value(original_mis[d], shuffled_mis[:, d]) \u001b[38;5;28;01mfor\u001b[39;00m d \u001b[38;5;129;01min\u001b[39;00m \u001b[38;5;28mrange\u001b[39m(d_max)]\n",
      "\u001b[1;31mValueError\u001b[0m: setting an array element with a sequence. The requested array would exceed the maximum number of dimension of 1."
     ]
    }
   ],
   "source": [
    "tokens = tokenized_texts[\"en_macbeth.txt\"]\n",
    "\n",
    "# Define maximum distance d to consider\n",
    "d_max = 20\n",
    "\n",
    "# Number of shuffles\n",
    "num_shuffles = 20\n",
    "\n",
    "# Calculate I(d) for original text\n",
    "original_mis = [mutual_information(tokens, d) for d in range(1, d_max + 1)]\n",
    "\n",
    "# Calculate I(d) for shuffled texts\n",
    "shuffled_mis = np.zeros((num_shuffles, d_max))\n",
    "for i in range(num_shuffles):\n",
    "    shuffled_tokens = shuffle_text(tokens)\n",
    "    shuffled_mis[i, :] = [mutual_information(shuffled_tokens, d) for d in range(1, d_max + 1)]\n",
    "\n",
    "# Calculate p-values\n",
    "p_values = [calculate_p_value(original_mis[d], shuffled_mis[:, d]) for d in range(d_max)]\n",
    "\n",
    "# Print results\n",
    "for d in range(d_max):\n",
    "    print(f\"d = {d + 1}, I(d) = {original_mis[d]:.4f}, p-value = {p_values[d]:.4f}\")"
   ]
  }
 ],
 "metadata": {
  "kernelspec": {
   "display_name": "IQL",
   "language": "python",
   "name": "python3"
  },
  "language_info": {
   "codemirror_mode": {
    "name": "ipython",
    "version": 3
   },
   "file_extension": ".py",
   "mimetype": "text/x-python",
   "name": "python",
   "nbconvert_exporter": "python",
   "pygments_lexer": "ipython3",
   "version": "3.12.2"
  }
 },
 "nbformat": 4,
 "nbformat_minor": 2
}
