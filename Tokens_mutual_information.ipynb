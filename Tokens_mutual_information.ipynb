{
 "cells": [
  {
   "cell_type": "code",
   "execution_count": 70,
   "metadata": {},
   "outputs": [],
   "source": [
    "import pandas as pd\n",
    "from tqdm import tqdm\n",
    "import numpy as np\n",
    "from collections import Counter\n",
    "import plotly.graph_objects as go\n",
    "import plotly.express as px\n",
    "import os\n",
    "import re #Regular expressions\n",
    "\n",
    "#Tokenizers \n",
    "import spacy\n",
    "import jieba\n",
    "import es_core_news_sm, en_core_web_sm, ja_core_news_sm, pl_core_news_sm, de_core_news_sm #spacy models\n",
    "\n",
    "#NLP objects for (as we can't use shortcuts for loading the objects)\n",
    "nlp_es= spacy.load(\"es_core_news_sm\") #Spanish\n",
    "nlp_ja= spacy.load(\"ja_core_news_sm\") #Japanese\n",
    "nlp_en= spacy.load(\"en_core_web_sm\") #English\n",
    "jieba.set_dictionary('data/dict.txt.big') #Chinese\n",
    "from spacy.lang.ru import Russian\n",
    "nlp_ru= Russian()"
   ]
  },
  {
   "cell_type": "code",
   "execution_count": 90,
   "metadata": {},
   "outputs": [],
   "source": [
    "#Extracts raw text from each file \n",
    "codes_langs= ['zh','es', 'en', 'ru', 'ja'] #ISO code of languages: chinese, spanish, english, russian, japanese.\n",
    "def extract_raw_texts(list_of_codes):\n",
    "  raw_files_texts= {}\n",
    "  path= \"data/no_boilerplate/\"\n",
    "  all_file_names= [file for file in os.listdir(path) if file.endswith('.txt')] #enlists names of .txt files \n",
    "  for language in list_of_codes:\n",
    "    files= [f for f in all_file_names if re.findall(language, f)] #separating files by language \n",
    "    number_texts= int(len(files))\n",
    "    for f in files:\n",
    "       raw= []\n",
    "       with open(path + f, \"r\", encoding=\"utf-8\") as file:\n",
    "         t= file.read()\n",
    "         raw.append(t)\n",
    "       raw_files_texts[f]=raw\n",
    "  return raw_files_texts\n",
    "\n",
    "#Tokenizer \n",
    "\n",
    "def tokenizer(text, model_lang):\n",
    "    nlp= model_lang #Opens spacy object\n",
    "    nlp.max_length = 9000000\n",
    "    doc=nlp(text) #Process text with spacy \n",
    "    tokens = [token.text for token in doc if not token.is_space and not token.is_punct and not token.is_digit]\n",
    "    return tokens\n",
    "\n",
    "def tokens(dict_raw_texts): #takes real_tokenizer and filters by language to tokenize\n",
    "    tokens_langs= {} #dictionary to store output\n",
    "    for item in list(dict_raw_texts.keys()):\n",
    "        if 'es' in item:\n",
    "            text= dict_raw_texts[item][0] #gets text from dict in raw_files_names \n",
    "            model_lang= nlp_es #loads corresponding model\n",
    "            tokens= tokenizer(text, model_lang) #tokenizes\n",
    "            tokens_langs[item]=tokens #appends to output dictionary \n",
    "        elif 'zh' in item:\n",
    "            punc= [\"！？｡。＂＃＄％＆＇（）＊＋，－／：；＜＝＞＠［＼］＾＿｀｛｜｝～｟｠｢｣､、〃《》「」『』【】〔〕〖〗〘〙〚〛〜〝〞〟〰〾〿–—‘’‛“”„‟…‧﹏.　 ﹔\\\\n[]﹍\\\\n\", \"\\n\", \", \",\" \",\"，\",\": \",'。',\"-\"]\n",
    "            text= dict_raw_texts[item][0]\n",
    "            tok= jieba.lcut(text, cut_all = False)\n",
    "            tokens= [t for t in tok if t not in punc]\n",
    "            tokens_langs[item]=tokens\n",
    "       # elif 'ja' in item: CAMBIAR A OTRA LENGUA. Esta da muchos errores\n",
    "        #    text= dict_raw_texts[item][0]\n",
    "         #   model_lang= nlp_ja\n",
    "          #  tokens= tokenizer(text, model_lang) \n",
    "           # tokens_langs[item]=tokens \n",
    "        elif 'ru' in item:\n",
    "            text= dict_raw_texts[item][0]\n",
    "            model_lang= nlp_es \n",
    "            tokens= tokenizer(text, model_lang) \n",
    "            tokens_langs[item]=tokens \n",
    "    return tokens_langs\n",
    "\n",
    "#Dictionary for the pairs of words\n",
    "def create_dataframe(words_list, distance):\n",
    "    #Find all the pairs at given distance \n",
    "    pairs = [(words_list[i], words_list[i + distance], i) for i in range(len(words_list) - distance)]\n",
    "    #Save into a dataframe\n",
    "    df = pd.DataFrame(pairs, columns=['Token x', 'Token y', 'Position of Token x'])\n",
    "    df['Distance'] = distance\n",
    "    return df\n",
    "\n",
    "def collect_positions(df):\n",
    "    df_grouped = df.groupby(['Token x', 'Token y']).agg({'Position of Token x': list}).reset_index()\n",
    "    return df_grouped\n",
    "\n",
    "#Entropies\n",
    "def H_X(pairs) -> float:\n",
    "    token_counts = Counter(pairs[0])\n",
    "    F = big_f(pairs)\n",
    "    H = 0\n",
    "\n",
    "    for token_x, fx in token_counts.items():\n",
    "        if fx != 0:\n",
    "            H += fx * np.log(fx)\n",
    "\n",
    "    H /= F\n",
    "    H = np.log(F) - H\n",
    "\n",
    "    return H\n",
    "\n",
    "def H_Y(pairs) -> float:\n",
    "    token_counts = Counter(pairs[1])\n",
    "    F = big_f(pairs)\n",
    "    H = 0\n",
    "\n",
    "    for token_y, fy in token_counts.items():\n",
    "        if fy != 0:\n",
    "            H += fy * np.log(fy)\n",
    "\n",
    "    H /= F\n",
    "    H = np.log(F) - H\n",
    "    return H\n",
    "\n",
    "def H_XY(pairs, pairs_gr) -> float:\n",
    "    F = big_f(pairs)\n",
    "    H = 0\n",
    "    for pair in pairs_gr:\n",
    "        fr = len(pair[2])\n",
    "        if fr != 0:\n",
    "            H += fr * np.log(fr)\n",
    "\n",
    "    H /= F\n",
    "    H = np.log(F) - H\n",
    "\n",
    "    return H\n",
    "\n",
    "#Mutual information\n",
    "\n",
    "def I(pairs, pairs_gr) -> float: \n",
    "    HX = H_X(pairs)\n",
    "    HY = H_Y(pairs)\n",
    "    H = H_XY(pairs, pairs_gr)\n",
    "    return HX + HY - H"
   ]
  },
  {
   "cell_type": "code",
   "execution_count": 80,
   "metadata": {},
   "outputs": [],
   "source": [
    "raw_texts= extract_raw_texts(codes_langs)"
   ]
  },
  {
   "cell_type": "code",
   "execution_count": 91,
   "metadata": {},
   "outputs": [],
   "source": [
    "tokenized_texts= tokens(raw_texts)"
   ]
  },
  {
   "cell_type": "code",
   "execution_count": 92,
   "metadata": {},
   "outputs": [
    {
     "data": {
      "text/plain": [
       "['Produced',\n",
       " 'by',\n",
       " 'Nai',\n",
       " 'Wen',\n",
       " 'Cai',\n",
       " '\\u3000',\n",
       " '\\u3000',\n",
       " '\\u3000',\n",
       " '\\u3000',\n",
       " '\\u3000',\n",
       " '\\u3000',\n",
       " '\\u3000',\n",
       " '\\u3000',\n",
       " '\\u3000',\n",
       " '\\u3000',\n",
       " '\\u3000',\n",
       " '\\u3000',\n",
       " '\\u3000',\n",
       " '\\u3000',\n",
       " '\\u3000',\n",
       " '\\u3000',\n",
       " '天豹',\n",
       " '圖',\n",
       " '\\u3000',\n",
       " '\\u3000',\n",
       " '\\u3000',\n",
       " '\\u3000',\n",
       " '\\u3000',\n",
       " '\\u3000',\n",
       " '\\u3000',\n",
       " '\\u3000',\n",
       " '\\u3000',\n",
       " '\\u3000',\n",
       " '\\u3000',\n",
       " '\\u3000',\n",
       " '\\u3000',\n",
       " '\\u3000',\n",
       " '\\u3000',\n",
       " '[',\n",
       " '清',\n",
       " ']',\n",
       " '佚名',\n",
       " '序',\n",
       " '\\u3000',\n",
       " '\\u3000',\n",
       " '若夫',\n",
       " '指帝',\n",
       " '天而喻',\n",
       " '美',\n",
       " '賦',\n",
       " '雲雨',\n",
       " '以',\n",
       " '傳奇',\n",
       " '此固',\n",
       " '小說家',\n",
       " '鏗金戛玉',\n",
       " '多',\n",
       " '存嬿婉之詞',\n",
       " '是',\n",
       " '世人',\n",
       " '之',\n",
       " '不可',\n",
       " '與',\n",
       " '莊語',\n",
       " '也',\n",
       " '然謂',\n",
       " '柳絮',\n",
       " '之才',\n",
       " '罕柏舟',\n",
       " '之操',\n",
       " '如雲',\n",
       " '之媛罔崩城',\n",
       " '之烈',\n",
       " '辭華',\n",
       " '之',\n",
       " '媖',\n",
       " '多',\n",
       " '同車',\n",
       " '之行',\n",
       " '苧羅之姝靡',\n",
       " '坐檯',\n",
       " '之守',\n",
       " '竊香',\n",
       " '之姬',\n",
       " '無',\n",
       " '墜樓',\n",
       " '之志',\n",
       " '琴心',\n",
       " '之女',\n",
       " '乏',\n",
       " '投梭',\n",
       " '之貞',\n",
       " '何哉',\n",
       " '？',\n",
       " '竹箭',\n",
       " '不花',\n",
       " '芙',\n",
       " '蕖',\n",
       " '寡節',\n",
       " '豈非',\n",
       " '騷人墨客',\n",
       " '借',\n",
       " '古人',\n",
       " '以',\n",
       " '澆',\n",
       " '胸中壘塊',\n",
       " '也',\n",
       " '\\u3000',\n",
       " '\\u3000',\n",
       " '細閱',\n",
       " '此書',\n",
       " '寓旨',\n",
       " '隱躍',\n",
       " '如諷',\n",
       " '如嘲',\n",
       " '全在',\n",
       " '浩然之氣',\n",
       " '耳',\n",
       " '觀施碧霞',\n",
       " '賣身',\n",
       " '葬母',\n",
       " '陷入',\n",
       " '虎穴',\n",
       " '終保',\n",
       " '完璞',\n",
       " '﹔',\n",
       " '李榮春',\n",
       " '仗義疏財',\n",
       " '臨',\n",
       " '大節',\n",
       " '而',\n",
       " '不可',\n",
       " '奪',\n",
       " '﹔',\n",
       " '花錦章專',\n",
       " '國柄',\n",
       " '殘害',\n",
       " '忠良',\n",
       " '﹔',\n",
       " '花子',\n",
       " '能',\n",
       " '倚',\n",
       " '父勢',\n",
       " '導情',\n",
       " '恣',\n",
       " '欲',\n",
       " '強佔',\n",
       " '人家',\n",
       " '三十一',\n",
       " '女',\n",
       " '難逃',\n",
       " '冶女',\n",
       " '淫風',\n",
       " '不保',\n",
       " '妻子',\n",
       " '﹔',\n",
       " '父子',\n",
       " '聚',\n",
       " '忝',\n",
       " '不知',\n",
       " '儆',\n",
       " '尚欲',\n",
       " '弒君',\n",
       " '僭',\n",
       " '位',\n",
       " '若非',\n",
       " '萬花',\n",
       " '老祖',\n",
       " '預知',\n",
       " '、',\n",
       " '陶天豹',\n",
       " '指點',\n",
       " '諸英',\n",
       " '雄何',\n",
       " '知',\n",
       " '救駕',\n",
       " '奸相',\n",
       " '滿門',\n",
       " '焉能',\n",
       " '伏誅',\n",
       " '則施',\n",
       " '必顯',\n",
       " '之輩',\n",
       " '聚集',\n",
       " '蟠蛇山',\n",
       " '豈',\n",
       " '不',\n",
       " '幾幾終',\n",
       " '為',\n",
       " '草寇',\n",
       " '也',\n",
       " '耶',\n",
       " '？',\n",
       " '\\u3000',\n",
       " '\\u3000',\n",
       " '予觀',\n",
       " '古今',\n",
       " '書籍',\n",
       " '多無如江',\n",
       " '如海',\n",
       " '之',\n",
       " '才',\n",
       " '儒墨',\n",
       " '旅人',\n",
       " '集',\n",
       " '傾國傾城',\n",
       " '之句',\n",
       " '未若此',\n",
       " '《',\n",
       " '天',\n",
       " '豹圖',\n",
       " '》',\n",
       " '一書',\n",
       " '包羅',\n",
       " '忠孝',\n",
       " '罔',\n",
       " '乖',\n",
       " '大雅',\n",
       " '其膽',\n",
       " '豪神',\n",
       " '雋',\n",
       " '可及',\n",
       " '也',\n",
       " '其',\n",
       " '浩然之氣',\n",
       " '不可',\n",
       " '及',\n",
       " '也',\n",
       " '是',\n",
       " '為序',\n",
       " '\\u3000',\n",
       " '\\u3000',\n",
       " '慶',\n",
       " '閼逢',\n",
       " '閹茂暢',\n",
       " '月',\n",
       " '三影',\n",
       " '張氏題',\n",
       " '於',\n",
       " '鷺門',\n",
       " '城東',\n",
       " '醉',\n",
       " '墨軒',\n",
       " '書屋',\n",
       " '第一回',\n",
       " '賽',\n",
       " '專珠',\n",
       " '施仁',\n",
       " '濟困',\n",
       " '\\u3000',\n",
       " '淨街',\n",
       " '王伏',\n",
       " '霸凌貧',\n",
       " '\\u3000',\n",
       " '\\u3000',\n",
       " '詩曰',\n",
       " '：',\n",
       " '\\u3000',\n",
       " '\\u3000',\n",
       " '雨斷',\n",
       " '雲歸甫',\n",
       " '作睛',\n",
       " '\\u3000',\n",
       " '\\u3000',\n",
       " '夕陽',\n",
       " '鼓角',\n",
       " '動',\n",
       " '高城',\n",
       " '\\u3000',\n",
       " '\\u3000',\n",
       " '客愁',\n",
       " '正得',\n",
       " '酒排',\n",
       " '去',\n",
       " '\\u3000',\n",
       " '\\u3000',\n",
       " '草色',\n",
       " '直疑',\n",
       " '煙',\n",
       " '染成',\n",
       " '\\u3000',\n",
       " '\\u3000',\n",
       " '鶯',\n",
       " '為',\n",
       " '風',\n",
       " '和',\n",
       " '初命友',\n",
       " '\\u3000',\n",
       " '\\u3000',\n",
       " '鷗',\n",
       " '緣',\n",
       " '水長',\n",
       " '欲',\n",
       " '尋盟',\n",
       " '\\u3000',\n",
       " '\\u3000',\n",
       " '不須',\n",
       " '苦',\n",
       " '問春',\n",
       " '深淺',\n",
       " '\\u3000',\n",
       " '\\u3000',\n",
       " '陌上',\n",
       " '吹蕭',\n",
       " '已賣常',\n",
       " '\\u3000',\n",
       " '\\u3000',\n",
       " '話',\n",
       " '說',\n",
       " '大明',\n",
       " '成化',\n",
       " '年間',\n",
       " '揚州',\n",
       " '府',\n",
       " '江都縣',\n",
       " '有',\n",
       " '一',\n",
       " '官家',\n",
       " '子弟',\n",
       " '姓李',\n",
       " '名芳',\n",
       " '字榮春',\n",
       " '因',\n",
       " '他',\n",
       " '為',\n",
       " '人',\n",
       " '慷慨',\n",
       " '仗義疏財',\n",
       " '濟困扶危',\n",
       " '憐孤惜',\n",
       " '寡',\n",
       " '就是',\n",
       " '遠方',\n",
       " '之',\n",
       " '人流',\n",
       " '落到',\n",
       " '此',\n",
       " '不能',\n",
       " '歸',\n",
       " '家',\n",
       " '的',\n",
       " '就',\n",
       " '來',\n",
       " '李府',\n",
       " '向',\n",
       " '他',\n",
       " '求借',\n",
       " '榮春',\n",
       " '無不',\n",
       " '相助',\n",
       " '其盤資',\n",
       " '送',\n",
       " '他',\n",
       " '歸家',\n",
       " '故人',\n",
       " '人贈',\n",
       " '他',\n",
       " '一個',\n",
       " '美號',\n",
       " '叫做',\n",
       " '小',\n",
       " '孟嘗君',\n",
       " '又',\n",
       " '一',\n",
       " '別號',\n",
       " '為賽',\n",
       " '專珠',\n",
       " '揚州',\n",
       " '一府',\n",
       " '無',\n",
       " '一個',\n",
       " '不知',\n",
       " '其名',\n",
       " '無人',\n",
       " '不',\n",
       " '感其恩',\n",
       " '況',\n",
       " '他',\n",
       " '祖公',\n",
       " '三代',\n",
       " '俱為',\n",
       " '司寇',\n",
       " '、',\n",
       " '司農',\n",
       " '父',\n",
       " '、',\n",
       " '叔',\n",
       " '二人',\n",
       " '亦',\n",
       " '受',\n",
       " '司徒',\n",
       " '、',\n",
       " '司馬',\n",
       " '之職',\n",
       " '俱',\n",
       " '皆',\n",
       " '作古',\n",
       " '家中',\n",
       " '只有',\n",
       " '夫人',\n",
       " '文氏',\n",
       " '在',\n",
       " '堂',\n",
       " '李榮春',\n",
       " '娶妻',\n",
       " '淡氏',\n",
       " '完婚',\n",
       " '三年',\n",
       " '尚未',\n",
       " '有子',\n",
       " '榮春',\n",
       " '在家',\n",
       " '勤苦',\n",
       " '讀書',\n",
       " '今',\n",
       " '已',\n",
       " '中',\n",
       " '了解',\n",
       " '元',\n",
       " '因',\n",
       " '老夫',\n",
       " '人',\n",
       " '在',\n",
       " '堂',\n",
       " '不忍',\n",
       " '遠離',\n",
       " '膝下',\n",
       " '所以',\n",
       " '未曾',\n",
       " '進京',\n",
       " '赴試',\n",
       " '又',\n",
       " '且',\n",
       " '家資',\n",
       " '百萬',\n",
       " '有',\n",
       " '進益',\n",
       " '無',\n",
       " '虧損',\n",
       " '真是',\n",
       " '日進',\n",
       " '千金',\n",
       " '凡此',\n",
       " '且',\n",
       " '按下不表',\n",
       " '\\u3000',\n",
       " '\\u3000',\n",
       " '且說',\n",
       " '那日',\n",
       " '乃是',\n",
       " '六月',\n",
       " '初三',\n",
       " '日',\n",
       " '李芳',\n",
       " '吃過',\n",
       " '早飯',\n",
       " '天氣炎熱',\n",
       " '意欲',\n",
       " '到',\n",
       " '海豐',\n",
       " '寺',\n",
       " '與',\n",
       " '法',\n",
       " '通',\n",
       " '長老',\n",
       " '閒敘',\n",
       " '涼爽',\n",
       " '遂',\n",
       " '到',\n",
       " '內',\n",
       " '堂',\n",
       " '稟',\n",
       " '知',\n",
       " '夫人',\n",
       " '說道',\n",
       " '：',\n",
       " '「',\n",
       " '孩兒',\n",
       " '欲',\n",
       " '到',\n",
       " '海豐',\n",
       " '寺',\n",
       " '與',\n",
       " '法通',\n",
       " '長老',\n",
       " '閒談',\n",
       " '不知',\n",
       " '母親',\n",
       " '可',\n",
       " '肯准',\n",
       " '孩兒',\n",
       " '去麼',\n",
       " '？',\n",
       " '」',\n",
       " '\\u3000',\n",
       " '\\u3000',\n",
       " '李夫人',\n",
       " '就',\n",
       " '說',\n",
       " '：',\n",
       " '「',\n",
       " '我兒',\n",
       " '去去就來',\n",
       " '」',\n",
       " '李芳',\n",
       " '說',\n",
       " '：',\n",
       " '「',\n",
       " '孩兒',\n",
       " '知道',\n",
       " '」',\n",
       " '遂',\n",
       " '別',\n",
       " '了',\n",
       " '夫人',\n",
       " '來到',\n",
       " '書房',\n",
       " '換了',\n",
       " '衣服',\n",
       " '帶',\n",
       " '了',\n",
       " '兩個',\n",
       " '家人',\n",
       " '一個',\n",
       " '叫做',\n",
       " '來貴',\n",
       " '一個',\n",
       " '叫做',\n",
       " '三元',\n",
       " '隨了',\n",
       " '李',\n",
       " '芳',\n",
       " '來到',\n",
       " '玉珍',\n",
       " '觀前',\n",
       " '只見',\n",
       " '圍',\n",
       " '了',\n",
       " '許多',\n",
       " '人',\n",
       " '在',\n",
       " '那裡',\n",
       " '看',\n",
       " '不知',\n",
       " '這看',\n",
       " '什麼',\n",
       " '？',\n",
       " '李榮春道',\n",
       " '：',\n",
       " '「',\n",
       " '三',\n",
       " '元',\n",
       " '爾上',\n",
       " '前去',\n",
       " '看',\n",
       " '那些',\n",
       " '人',\n",
       " '在',\n",
       " '那裡',\n",
       " '圍住',\n",
       " '看',\n",
       " '甚麼',\n",
       " '？',\n",
       " '」',\n",
       " '三元',\n",
       " '走上',\n",
       " '前一看',\n",
       " '只見',\n",
       " '觀門',\n",
       " '裡坐',\n",
       " '著',\n",
       " '一個',\n",
       " '女子',\n",
       " '低了頭',\n",
       " '前面',\n",
       " '放',\n",
       " '一條',\n",
       " '板凳',\n",
       " '上面',\n",
       " '放',\n",
       " '一張',\n",
       " '紙',\n",
       " '那紙',\n",
       " '上',\n",
       " '寫',\n",
       " '著',\n",
       " '：',\n",
       " '賣身',\n",
       " '人',\n",
       " '施碧霞',\n",
       " '家住',\n",
       " '在',\n",
       " '山西',\n",
       " '平定',\n",
       " '州',\n",
       " '人氏',\n",
       " '父親',\n",
       " '乃是',\n",
       " '山海關',\n",
       " '總制',\n",
       " '因',\n",
       " '被',\n",
       " '奸臣',\n",
       " '花錦章',\n",
       " '陷害',\n",
       " '奏請',\n",
       " '被',\n",
       " '斬',\n",
       " '家資',\n",
       " '產業',\n",
       " '一盡',\n",
       " '搜去',\n",
       " '因此',\n",
       " '一貧如洗',\n",
       " '只存',\n",
       " '母子',\n",
       " '三人',\n",
       " '靡',\n",
       " '處',\n",
       " '求告',\n",
       " '今欲要',\n",
       " '往',\n",
       " '寧波',\n",
       " '投靠',\n",
       " '親戚',\n",
       " '誰知',\n",
       " '來到',\n",
       " '此地',\n",
       " '母親',\n",
       " '一病',\n",
       " '身亡',\n",
       " '哥哥',\n",
       " '現',\n",
       " '又',\n",
       " '臥病',\n",
       " '沉重',\n",
       " '不知',\n",
       " '人事',\n",
       " '奴家',\n",
       " '舉目無親',\n",
       " '無奈何',\n",
       " '只要',\n",
       " '賣身',\n",
       " '以備',\n",
       " '棺槨',\n",
       " '衣',\n",
       " '衾',\n",
       " '之費',\n",
       " '免得',\n",
       " '母親',\n",
       " '屍',\n",
       " '骸',\n",
       " '暴野',\n",
       " '感恩',\n",
       " '不',\n",
       " '荊買',\n",
       " '去',\n",
       " '之後',\n",
       " '奴家',\n",
       " '只願',\n",
       " '為',\n",
       " '婢',\n",
       " '不願',\n",
       " '為',\n",
       " '妾',\n",
       " '\\u3000',\n",
       " '\\u3000',\n",
       " '三元',\n",
       " '舉眼',\n",
       " '觀看',\n",
       " '心中',\n",
       " '想道',\n",
       " '：',\n",
       " '「',\n",
       " '原來',\n",
       " '是',\n",
       " '個',\n",
       " '孝女',\n",
       " '」',\n",
       " '遂',\n",
       " '走',\n",
       " '回身',\n",
       " '來到',\n",
       " '李榮春',\n",
       " '面前',\n",
       " '稟告',\n",
       " '：',\n",
       " '「',\n",
       " '大爺',\n",
       " '但',\n",
       " '前面',\n",
       " '乃是',\n",
       " '一位',\n",
       " '小姐',\n",
       " '因要',\n",
       " '往',\n",
       " '寧波',\n",
       " '去',\n",
       " '探親',\n",
       " '為',\n",
       " '因到',\n",
       " '此',\n",
       " '母親',\n",
       " '病死',\n",
       " '在',\n",
       " '此',\n",
       " '無錢',\n",
       " '收埋',\n",
       " '故要',\n",
       " '賣身',\n",
       " '葬母',\n",
       " '的',\n",
       " '」',\n",
       " '李榮春',\n",
       " '聽',\n",
       " '了',\n",
       " '心中',\n",
       " '不忍',\n",
       " '就',\n",
       " '叫',\n",
       " '三元',\n",
       " '：',\n",
       " '「',\n",
       " '爾',\n",
       " '去',\n",
       " '與',\n",
       " '他',\n",
       " '說',\n",
       " '叫',\n",
       " '他',\n",
       " '不要',\n",
       " '賣身',\n",
       " '我家',\n",
       " '大爺',\n",
       " '乃孝德',\n",
       " '之',\n",
       " '人',\n",
       " '聞',\n",
       " '小姐',\n",
       " '言此',\n",
       " '不忍',\n",
       " '其心',\n",
       " '欲',\n",
       " '助',\n",
       " '銀子',\n",
       " '五一',\n",
       " '兩以',\n",
       " '為',\n",
       " '收埋',\n",
       " '之費',\n",
       " '免致',\n",
       " '小姐',\n",
       " '賣身',\n",
       " '」',\n",
       " '李榮春',\n",
       " '又',\n",
       " '叫聲',\n",
       " '：',\n",
       " '「',\n",
       " '來貴',\n",
       " '爾回',\n",
       " '家',\n",
       " '去',\n",
       " '稟',\n",
       " '知',\n",
       " '太太',\n",
       " '說',\n",
       " '我',\n",
       " '要',\n",
       " '取',\n",
       " '銀子',\n",
       " '五十兩',\n",
       " '來助施',\n",
       " '小姐',\n",
       " '以買',\n",
       " '棺槨',\n",
       " '衣',\n",
       " '衾',\n",
       " '收埋',\n",
       " '他',\n",
       " '的',\n",
       " '母親',\n",
       " '我要',\n",
       " '先去',\n",
       " '海豐',\n",
       " '寺',\n",
       " '」',\n",
       " '來',\n",
       " '貴道',\n",
       " '：',\n",
       " '「',\n",
       " '小人',\n",
       " '曉得',\n",
       " '」',\n",
       " '遂即',\n",
       " '回家',\n",
       " '去取',\n",
       " '銀',\n",
       " '\\u3000',\n",
       " '\\u3000',\n",
       " '再說',\n",
       " '三元',\n",
       " '來到',\n",
       " '觀前',\n",
       " '只見',\n",
       " '一個',\n",
       " '道人',\n",
       " '立在施',\n",
       " '小姐',\n",
       " '身邊',\n",
       " '三元',\n",
       " '見',\n",
       " '了',\n",
       " '叫聲',\n",
       " '：',\n",
       " '「',\n",
       " '道人',\n",
       " '爾',\n",
       " '那裡',\n",
       " '來',\n",
       " '？',\n",
       " '我',\n",
       " '有',\n",
       " '話',\n",
       " '對爾說',\n",
       " '」',\n",
       " '道人',\n",
       " '見',\n",
       " '有人',\n",
       " '叫',\n",
       " '伊',\n",
       " '應聲',\n",
       " '就',\n",
       " '說',\n",
       " '：',\n",
       " '「',\n",
       " '誰',\n",
       " '叫',\n",
       " '小道',\n",
       " '？',\n",
       " '」',\n",
       " '三元',\n",
       " '道',\n",
       " '：',\n",
       " '「',\n",
       " '是',\n",
       " '我',\n",
       " '」',\n",
       " '道人',\n",
       " '一見',\n",
       " '：',\n",
       " '「',\n",
       " '原來',\n",
       " '是',\n",
       " '李府',\n",
       " '小',\n",
       " '大叔',\n",
       " '呼喚',\n",
       " '小道',\n",
       " '未知',\n",
       " '有何',\n",
       " '吩咐',\n",
       " '？',\n",
       " '」',\n",
       " '三元',\n",
       " '道',\n",
       " '：',\n",
       " '「',\n",
       " '我且',\n",
       " '問爾',\n",
       " '那施',\n",
       " '小姐',\n",
       " '到',\n",
       " '此',\n",
       " '死',\n",
       " '了',\n",
       " '母親',\n",
       " '病',\n",
       " '了',\n",
       " '哥哥',\n",
       " '爾',\n",
       " '就',\n",
       " '該',\n",
       " '代伊一',\n",
       " '走',\n",
       " '來',\n",
       " '我家',\n",
       " '見',\n",
       " '我',\n",
       " '大爺',\n",
       " '說知',\n",
       " '為',\n",
       " '其',\n",
       " '求借',\n",
       " '怕',\n",
       " '沒有',\n",
       " '銀子',\n",
       " '與',\n",
       " '他',\n",
       " '使用',\n",
       " '？',\n",
       " '安可',\n",
       " '置',\n",
       " '其',\n",
       " '官家',\n",
       " '之',\n",
       " '小姐',\n",
       " '親',\n",
       " '出賣',\n",
       " '身',\n",
       " '這是',\n",
       " '何',\n",
       " '意思',\n",
       " '？',\n",
       " '」',\n",
       " '道人',\n",
       " '應說',\n",
       " '：',\n",
       " '「',\n",
       " '小',\n",
       " '大叔',\n",
       " '爾',\n",
       " '有所不知',\n",
       " '小',\n",
       " '道',\n",
       " '亦',\n",
       " '曾',\n",
       " '向',\n",
       " '他',\n",
       " '說過',\n",
       " '爾家',\n",
       " '大爺',\n",
       " '為',\n",
       " '人',\n",
       " '甚',\n",
       " '好',\n",
       " '行善',\n",
       " '向',\n",
       " '其',\n",
       " '告貸',\n",
       " '必然',\n",
       " '見',\n",
       " '允',\n",
       " '施',\n",
       " '小姐',\n",
       " '道',\n",
       " '：',\n",
       " '『',\n",
       " '人生',\n",
       " '世上',\n",
       " '素',\n",
       " '無',\n",
       " '相識',\n",
       " '而',\n",
       " '走',\n",
       " '貸',\n",
       " '於',\n",
       " '人',\n",
       " '其理',\n",
       " '所',\n",
       " '無',\n",
       " '雖李',\n",
       " '大爺',\n",
       " '有片',\n",
       " '心',\n",
       " '行善',\n",
       " '但',\n",
       " '與',\n",
       " '奴家',\n",
       " '老爹',\n",
       " '在',\n",
       " '日',\n",
       " '無',\n",
       " '瓜葛',\n",
       " '之親',\n",
       " '並非',\n",
       " '相知',\n",
       " '之友',\n",
       " '而今',\n",
       " '我',\n",
       " '雖',\n",
       " '落難',\n",
       " '母親',\n",
       " '身死',\n",
       " '哥哥',\n",
       " '病重',\n",
       " '若到',\n",
       " '其府',\n",
       " '求借',\n",
       " '得',\n",
       " '了',\n",
       " '銀子',\n",
       " '而來',\n",
       " '費用',\n",
       " '然',\n",
       " '夫人',\n",
       " '在於',\n",
       " '九泉之下',\n",
       " '必知',\n",
       " '此情',\n",
       " ...]"
      ]
     },
     "execution_count": 92,
     "metadata": {},
     "output_type": "execute_result"
    }
   ],
   "source": [
    "tokenized_texts['zh_book1.txt']"
   ]
  },
  {
   "cell_type": "code",
   "execution_count": 337,
   "metadata": {},
   "outputs": [
    {
     "name": "stderr",
     "output_type": "stream",
     "text": [
      "100%|██████████| 49/49 [01:29<00:00,  1.82s/it]"
     ]
    },
    {
     "name": "stdout",
     "output_type": "stream",
     "text": [
      "[0.         4.4785212  4.0716655  3.97574931 3.94599839 3.93358154\n",
      " 3.92621809 3.91956053 3.91610042 3.91780302 3.91306368 3.91412179\n",
      " 3.91311793 3.91322618 3.91335384 3.9129089  3.90697638 3.90767422\n",
      " 3.90706941 3.91110741 3.91153067 3.90911863 3.90764111 3.9058589\n",
      " 3.9057672  3.90277385 3.90555785 3.90520785 3.90664827 3.9052327\n",
      " 3.90500558 3.90300452 3.90828146 3.90480953 3.9027206  3.90154009\n",
      " 3.90405181 3.90223376 3.90257428 3.8997887  3.90239686 3.90033816\n",
      " 3.90165543 3.90136538 3.9053431  3.8992504  3.90098382 3.89771988\n",
      " 3.89673642 3.90039487]\n"
     ]
    },
    {
     "name": "stderr",
     "output_type": "stream",
     "text": [
      "\n"
     ]
    }
   ],
   "source": [
    "max_d = 50\n",
    "MI = np.zeros(max_d)\n",
    "\n",
    "for i in tqdm(range(1, max_d)):\n",
    "\n",
    "    pairs = create_dataframe(clean_tokens, i)\n",
    "    pairs_grouped = collect_positions(pairs)\n",
    "\n",
    "    pairs_np = np.transpose(pairs.to_numpy())\n",
    "    pairs_grouped_np = pairs_grouped.to_numpy()\n",
    "\n",
    "    MI[i] = I(pairs_np, pairs_grouped_np)\n",
    "\n",
    "print(MI)"
   ]
  },
  {
   "cell_type": "code",
   "execution_count": 361,
   "metadata": {},
   "outputs": [
    {
     "data": {
      "application/vnd.plotly.v1+json": {
       "config": {
        "plotlyServerURL": "https://plot.ly"
       },
       "data": [
        {
         "mode": "markers",
         "type": "scatter",
         "x": [
          1,
          2,
          3,
          4,
          5,
          6,
          7,
          8,
          9,
          10,
          11,
          12,
          13,
          14,
          15,
          16,
          17,
          18,
          19,
          20,
          21,
          22,
          23,
          24,
          25,
          26,
          27,
          28,
          29,
          30,
          31,
          32,
          33,
          34,
          35,
          36,
          37,
          38,
          39,
          40,
          41,
          42,
          43,
          44,
          45,
          46,
          47,
          48,
          49
         ],
         "y": [
          4.4785212009506505,
          4.071665501990861,
          3.9757493128336137,
          3.9459983914462686,
          3.933581542132325,
          3.926218089792,
          3.919560529121627,
          3.9161004230759318,
          3.9178030219249145,
          3.9130636831902663,
          3.9141217859452553,
          3.9131179345848555,
          3.9132261795650187,
          3.9133538389111937,
          3.9129089019731307,
          3.906976376821458,
          3.907674215799789,
          3.907069412278007,
          3.9111074127374437,
          3.911530668275912,
          3.9091186301593286,
          3.9076411079485176,
          3.9058589025950567,
          3.9057672007292545,
          3.9027738488736556,
          3.9055578492513146,
          3.905207848848322,
          3.9066482703739176,
          3.905232704691702,
          3.9050055782282396,
          3.9030045238951026,
          3.9082814568235538,
          3.904809529737223,
          3.9027206043713925,
          3.901540086964177,
          3.904051809136673,
          3.9022337636226503,
          3.902574283963787,
          3.89978869894008,
          3.902396860501552,
          3.9003381559501733,
          3.9016554271043784,
          3.901365384296861,
          3.9053431005846644,
          3.8992503950599513,
          3.9009838206107226,
          3.8977198808589684,
          3.8967364201967367,
          3.9003948749716244
         ]
        }
       ],
       "layout": {
        "template": {
         "data": {
          "bar": [
           {
            "error_x": {
             "color": "#2a3f5f"
            },
            "error_y": {
             "color": "#2a3f5f"
            },
            "marker": {
             "line": {
              "color": "#E5ECF6",
              "width": 0.5
             },
             "pattern": {
              "fillmode": "overlay",
              "size": 10,
              "solidity": 0.2
             }
            },
            "type": "bar"
           }
          ],
          "barpolar": [
           {
            "marker": {
             "line": {
              "color": "#E5ECF6",
              "width": 0.5
             },
             "pattern": {
              "fillmode": "overlay",
              "size": 10,
              "solidity": 0.2
             }
            },
            "type": "barpolar"
           }
          ],
          "carpet": [
           {
            "aaxis": {
             "endlinecolor": "#2a3f5f",
             "gridcolor": "white",
             "linecolor": "white",
             "minorgridcolor": "white",
             "startlinecolor": "#2a3f5f"
            },
            "baxis": {
             "endlinecolor": "#2a3f5f",
             "gridcolor": "white",
             "linecolor": "white",
             "minorgridcolor": "white",
             "startlinecolor": "#2a3f5f"
            },
            "type": "carpet"
           }
          ],
          "choropleth": [
           {
            "colorbar": {
             "outlinewidth": 0,
             "ticks": ""
            },
            "type": "choropleth"
           }
          ],
          "contour": [
           {
            "colorbar": {
             "outlinewidth": 0,
             "ticks": ""
            },
            "colorscale": [
             [
              0,
              "#0d0887"
             ],
             [
              0.1111111111111111,
              "#46039f"
             ],
             [
              0.2222222222222222,
              "#7201a8"
             ],
             [
              0.3333333333333333,
              "#9c179e"
             ],
             [
              0.4444444444444444,
              "#bd3786"
             ],
             [
              0.5555555555555556,
              "#d8576b"
             ],
             [
              0.6666666666666666,
              "#ed7953"
             ],
             [
              0.7777777777777778,
              "#fb9f3a"
             ],
             [
              0.8888888888888888,
              "#fdca26"
             ],
             [
              1,
              "#f0f921"
             ]
            ],
            "type": "contour"
           }
          ],
          "contourcarpet": [
           {
            "colorbar": {
             "outlinewidth": 0,
             "ticks": ""
            },
            "type": "contourcarpet"
           }
          ],
          "heatmap": [
           {
            "colorbar": {
             "outlinewidth": 0,
             "ticks": ""
            },
            "colorscale": [
             [
              0,
              "#0d0887"
             ],
             [
              0.1111111111111111,
              "#46039f"
             ],
             [
              0.2222222222222222,
              "#7201a8"
             ],
             [
              0.3333333333333333,
              "#9c179e"
             ],
             [
              0.4444444444444444,
              "#bd3786"
             ],
             [
              0.5555555555555556,
              "#d8576b"
             ],
             [
              0.6666666666666666,
              "#ed7953"
             ],
             [
              0.7777777777777778,
              "#fb9f3a"
             ],
             [
              0.8888888888888888,
              "#fdca26"
             ],
             [
              1,
              "#f0f921"
             ]
            ],
            "type": "heatmap"
           }
          ],
          "heatmapgl": [
           {
            "colorbar": {
             "outlinewidth": 0,
             "ticks": ""
            },
            "colorscale": [
             [
              0,
              "#0d0887"
             ],
             [
              0.1111111111111111,
              "#46039f"
             ],
             [
              0.2222222222222222,
              "#7201a8"
             ],
             [
              0.3333333333333333,
              "#9c179e"
             ],
             [
              0.4444444444444444,
              "#bd3786"
             ],
             [
              0.5555555555555556,
              "#d8576b"
             ],
             [
              0.6666666666666666,
              "#ed7953"
             ],
             [
              0.7777777777777778,
              "#fb9f3a"
             ],
             [
              0.8888888888888888,
              "#fdca26"
             ],
             [
              1,
              "#f0f921"
             ]
            ],
            "type": "heatmapgl"
           }
          ],
          "histogram": [
           {
            "marker": {
             "pattern": {
              "fillmode": "overlay",
              "size": 10,
              "solidity": 0.2
             }
            },
            "type": "histogram"
           }
          ],
          "histogram2d": [
           {
            "colorbar": {
             "outlinewidth": 0,
             "ticks": ""
            },
            "colorscale": [
             [
              0,
              "#0d0887"
             ],
             [
              0.1111111111111111,
              "#46039f"
             ],
             [
              0.2222222222222222,
              "#7201a8"
             ],
             [
              0.3333333333333333,
              "#9c179e"
             ],
             [
              0.4444444444444444,
              "#bd3786"
             ],
             [
              0.5555555555555556,
              "#d8576b"
             ],
             [
              0.6666666666666666,
              "#ed7953"
             ],
             [
              0.7777777777777778,
              "#fb9f3a"
             ],
             [
              0.8888888888888888,
              "#fdca26"
             ],
             [
              1,
              "#f0f921"
             ]
            ],
            "type": "histogram2d"
           }
          ],
          "histogram2dcontour": [
           {
            "colorbar": {
             "outlinewidth": 0,
             "ticks": ""
            },
            "colorscale": [
             [
              0,
              "#0d0887"
             ],
             [
              0.1111111111111111,
              "#46039f"
             ],
             [
              0.2222222222222222,
              "#7201a8"
             ],
             [
              0.3333333333333333,
              "#9c179e"
             ],
             [
              0.4444444444444444,
              "#bd3786"
             ],
             [
              0.5555555555555556,
              "#d8576b"
             ],
             [
              0.6666666666666666,
              "#ed7953"
             ],
             [
              0.7777777777777778,
              "#fb9f3a"
             ],
             [
              0.8888888888888888,
              "#fdca26"
             ],
             [
              1,
              "#f0f921"
             ]
            ],
            "type": "histogram2dcontour"
           }
          ],
          "mesh3d": [
           {
            "colorbar": {
             "outlinewidth": 0,
             "ticks": ""
            },
            "type": "mesh3d"
           }
          ],
          "parcoords": [
           {
            "line": {
             "colorbar": {
              "outlinewidth": 0,
              "ticks": ""
             }
            },
            "type": "parcoords"
           }
          ],
          "pie": [
           {
            "automargin": true,
            "type": "pie"
           }
          ],
          "scatter": [
           {
            "fillpattern": {
             "fillmode": "overlay",
             "size": 10,
             "solidity": 0.2
            },
            "type": "scatter"
           }
          ],
          "scatter3d": [
           {
            "line": {
             "colorbar": {
              "outlinewidth": 0,
              "ticks": ""
             }
            },
            "marker": {
             "colorbar": {
              "outlinewidth": 0,
              "ticks": ""
             }
            },
            "type": "scatter3d"
           }
          ],
          "scattercarpet": [
           {
            "marker": {
             "colorbar": {
              "outlinewidth": 0,
              "ticks": ""
             }
            },
            "type": "scattercarpet"
           }
          ],
          "scattergeo": [
           {
            "marker": {
             "colorbar": {
              "outlinewidth": 0,
              "ticks": ""
             }
            },
            "type": "scattergeo"
           }
          ],
          "scattergl": [
           {
            "marker": {
             "colorbar": {
              "outlinewidth": 0,
              "ticks": ""
             }
            },
            "type": "scattergl"
           }
          ],
          "scattermapbox": [
           {
            "marker": {
             "colorbar": {
              "outlinewidth": 0,
              "ticks": ""
             }
            },
            "type": "scattermapbox"
           }
          ],
          "scatterpolar": [
           {
            "marker": {
             "colorbar": {
              "outlinewidth": 0,
              "ticks": ""
             }
            },
            "type": "scatterpolar"
           }
          ],
          "scatterpolargl": [
           {
            "marker": {
             "colorbar": {
              "outlinewidth": 0,
              "ticks": ""
             }
            },
            "type": "scatterpolargl"
           }
          ],
          "scatterternary": [
           {
            "marker": {
             "colorbar": {
              "outlinewidth": 0,
              "ticks": ""
             }
            },
            "type": "scatterternary"
           }
          ],
          "surface": [
           {
            "colorbar": {
             "outlinewidth": 0,
             "ticks": ""
            },
            "colorscale": [
             [
              0,
              "#0d0887"
             ],
             [
              0.1111111111111111,
              "#46039f"
             ],
             [
              0.2222222222222222,
              "#7201a8"
             ],
             [
              0.3333333333333333,
              "#9c179e"
             ],
             [
              0.4444444444444444,
              "#bd3786"
             ],
             [
              0.5555555555555556,
              "#d8576b"
             ],
             [
              0.6666666666666666,
              "#ed7953"
             ],
             [
              0.7777777777777778,
              "#fb9f3a"
             ],
             [
              0.8888888888888888,
              "#fdca26"
             ],
             [
              1,
              "#f0f921"
             ]
            ],
            "type": "surface"
           }
          ],
          "table": [
           {
            "cells": {
             "fill": {
              "color": "#EBF0F8"
             },
             "line": {
              "color": "white"
             }
            },
            "header": {
             "fill": {
              "color": "#C8D4E3"
             },
             "line": {
              "color": "white"
             }
            },
            "type": "table"
           }
          ]
         },
         "layout": {
          "annotationdefaults": {
           "arrowcolor": "#2a3f5f",
           "arrowhead": 0,
           "arrowwidth": 1
          },
          "autotypenumbers": "strict",
          "coloraxis": {
           "colorbar": {
            "outlinewidth": 0,
            "ticks": ""
           }
          },
          "colorscale": {
           "diverging": [
            [
             0,
             "#8e0152"
            ],
            [
             0.1,
             "#c51b7d"
            ],
            [
             0.2,
             "#de77ae"
            ],
            [
             0.3,
             "#f1b6da"
            ],
            [
             0.4,
             "#fde0ef"
            ],
            [
             0.5,
             "#f7f7f7"
            ],
            [
             0.6,
             "#e6f5d0"
            ],
            [
             0.7,
             "#b8e186"
            ],
            [
             0.8,
             "#7fbc41"
            ],
            [
             0.9,
             "#4d9221"
            ],
            [
             1,
             "#276419"
            ]
           ],
           "sequential": [
            [
             0,
             "#0d0887"
            ],
            [
             0.1111111111111111,
             "#46039f"
            ],
            [
             0.2222222222222222,
             "#7201a8"
            ],
            [
             0.3333333333333333,
             "#9c179e"
            ],
            [
             0.4444444444444444,
             "#bd3786"
            ],
            [
             0.5555555555555556,
             "#d8576b"
            ],
            [
             0.6666666666666666,
             "#ed7953"
            ],
            [
             0.7777777777777778,
             "#fb9f3a"
            ],
            [
             0.8888888888888888,
             "#fdca26"
            ],
            [
             1,
             "#f0f921"
            ]
           ],
           "sequentialminus": [
            [
             0,
             "#0d0887"
            ],
            [
             0.1111111111111111,
             "#46039f"
            ],
            [
             0.2222222222222222,
             "#7201a8"
            ],
            [
             0.3333333333333333,
             "#9c179e"
            ],
            [
             0.4444444444444444,
             "#bd3786"
            ],
            [
             0.5555555555555556,
             "#d8576b"
            ],
            [
             0.6666666666666666,
             "#ed7953"
            ],
            [
             0.7777777777777778,
             "#fb9f3a"
            ],
            [
             0.8888888888888888,
             "#fdca26"
            ],
            [
             1,
             "#f0f921"
            ]
           ]
          },
          "colorway": [
           "#636efa",
           "#EF553B",
           "#00cc96",
           "#ab63fa",
           "#FFA15A",
           "#19d3f3",
           "#FF6692",
           "#B6E880",
           "#FF97FF",
           "#FECB52"
          ],
          "font": {
           "color": "#2a3f5f"
          },
          "geo": {
           "bgcolor": "white",
           "lakecolor": "white",
           "landcolor": "#E5ECF6",
           "showlakes": true,
           "showland": true,
           "subunitcolor": "white"
          },
          "hoverlabel": {
           "align": "left"
          },
          "hovermode": "closest",
          "mapbox": {
           "style": "light"
          },
          "paper_bgcolor": "white",
          "plot_bgcolor": "#E5ECF6",
          "polar": {
           "angularaxis": {
            "gridcolor": "white",
            "linecolor": "white",
            "ticks": ""
           },
           "bgcolor": "#E5ECF6",
           "radialaxis": {
            "gridcolor": "white",
            "linecolor": "white",
            "ticks": ""
           }
          },
          "scene": {
           "xaxis": {
            "backgroundcolor": "#E5ECF6",
            "gridcolor": "white",
            "gridwidth": 2,
            "linecolor": "white",
            "showbackground": true,
            "ticks": "",
            "zerolinecolor": "white"
           },
           "yaxis": {
            "backgroundcolor": "#E5ECF6",
            "gridcolor": "white",
            "gridwidth": 2,
            "linecolor": "white",
            "showbackground": true,
            "ticks": "",
            "zerolinecolor": "white"
           },
           "zaxis": {
            "backgroundcolor": "#E5ECF6",
            "gridcolor": "white",
            "gridwidth": 2,
            "linecolor": "white",
            "showbackground": true,
            "ticks": "",
            "zerolinecolor": "white"
           }
          },
          "shapedefaults": {
           "line": {
            "color": "#2a3f5f"
           }
          },
          "ternary": {
           "aaxis": {
            "gridcolor": "white",
            "linecolor": "white",
            "ticks": ""
           },
           "baxis": {
            "gridcolor": "white",
            "linecolor": "white",
            "ticks": ""
           },
           "bgcolor": "#E5ECF6",
           "caxis": {
            "gridcolor": "white",
            "linecolor": "white",
            "ticks": ""
           }
          },
          "title": {
           "x": 0.05
          },
          "xaxis": {
           "automargin": true,
           "gridcolor": "white",
           "linecolor": "white",
           "ticks": "",
           "title": {
            "standoff": 15
           },
           "zerolinecolor": "white",
           "zerolinewidth": 2
          },
          "yaxis": {
           "automargin": true,
           "gridcolor": "white",
           "linecolor": "white",
           "ticks": "",
           "title": {
            "standoff": 15
           },
           "zerolinecolor": "white",
           "zerolinewidth": 2
          }
         }
        },
        "xaxis": {
         "range": [
          0,
          1.6989700043360187
         ],
         "title": {
          "text": "d"
         },
         "type": "log"
        },
        "yaxis": {
         "title": {
          "text": "I(d)"
         },
         "type": "log"
        }
       }
      }
     },
     "metadata": {},
     "output_type": "display_data"
    }
   ],
   "source": [
    "fig = go.Figure()\n",
    "fig.add_trace(go.Scatter(y=MI[1:], x=list(range(1, len(MI))), mode='markers'))\n",
    "fig.update_layout(xaxis=dict(range=[0, np.log10(len(MI))]))\n",
    "fig.update_layout(\n",
    "    xaxis_title=\"d\",\n",
    "    xaxis_type=\"log\",\n",
    "    yaxis_title=\"I(d)\",\n",
    "    yaxis_type=\"log\",\n",
    ")\n",
    "fig.show()"
   ]
  }
 ],
 "metadata": {
  "kernelspec": {
   "display_name": "IQL",
   "language": "python",
   "name": "python3"
  },
  "language_info": {
   "codemirror_mode": {
    "name": "ipython",
    "version": 3
   },
   "file_extension": ".py",
   "mimetype": "text/x-python",
   "name": "python",
   "nbconvert_exporter": "python",
   "pygments_lexer": "ipython3",
   "version": "3.11.9"
  }
 },
 "nbformat": 4,
 "nbformat_minor": 2
}
