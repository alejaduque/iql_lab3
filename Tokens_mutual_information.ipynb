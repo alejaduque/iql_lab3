{
 "cells": [
  {
   "cell_type": "code",
   "execution_count": 1,
   "metadata": {},
   "outputs": [],
   "source": [
    "import pandas as pd\n",
    "from tqdm import tqdm\n",
    "import numpy as np\n",
    "from collections import Counter\n",
    "import plotly.graph_objects as go\n",
    "import plotly.express as px\n",
    "import os\n",
    "import re #Regular expressions\n",
    "\n",
    "#Tokenizers \n",
    "import spacy\n",
    "import jieba\n",
    "import es_core_news_sm, en_core_web_sm, ja_core_news_sm, pl_core_news_sm, de_core_news_sm #spacy models\n",
    "\n",
    "#NLP objects for (as we can't use shortcuts for loading the objects)\n",
    "nlp_es= spacy.load(\"es_core_news_sm\") #Spanish\n",
    "nlp_ja= spacy.load(\"ja_core_news_sm\") #Japanese\n",
    "nlp_en= spacy.load(\"en_core_web_sm\") #English\n",
    "jieba.set_dictionary('data/dict.txt.big') #Chinese\n",
    "from spacy.lang.ru import Russian\n",
    "nlp_ru= Russian()"
   ]
  },
  {
   "cell_type": "code",
   "execution_count": 2,
   "metadata": {},
   "outputs": [],
   "source": [
    "#Extracts raw text from each file \n",
    "codes_langs= ['zh','es', 'en', 'ru', 'ja'] #ISO code of languages: chinese, spanish, english, russian, japanese.\n",
    "def extract_raw_texts(list_of_codes):\n",
    "  raw_files_texts= {}\n",
    "  path= \"data/no_boilerplate/\"\n",
    "  all_file_names= [file for file in os.listdir(path) if file.endswith('.txt')] #enlists names of .txt files \n",
    "  for language in list_of_codes:\n",
    "    files= [f for f in all_file_names if re.findall(language, f)] #separating files by language \n",
    "    number_texts= int(len(files))\n",
    "    for f in files:\n",
    "       raw= []\n",
    "       with open(path + f, \"r\", encoding=\"utf-8\") as file:\n",
    "         t= file.read()\n",
    "         raw.append(t)\n",
    "       raw_files_texts[f]=raw\n",
    "  return raw_files_texts\n",
    "\n",
    "#Tokenizer \n",
    "\n",
    "def tokenizer(text, model_lang):\n",
    "    nlp= model_lang #Opens spacy object\n",
    "    nlp.max_length = 9000000\n",
    "    doc=nlp(text) #Process text with spacy \n",
    "    tokens = [token.text for token in doc if not token.is_space and not token.is_punct and not token.is_digit]\n",
    "    return tokens\n",
    "\n",
    "def tokens(dict_raw_texts): #takes real_tokenizer and filters by language to tokenize\n",
    "    tokens_langs= {} #dictionary to store output\n",
    "    for item in list(dict_raw_texts.keys()):\n",
    "        if 'es' in item:\n",
    "            text= dict_raw_texts[item][0] #gets text from dict in raw_files_names \n",
    "            model_lang= nlp_es #loads corresponding model\n",
    "            tokens= tokenizer(text, model_lang) #tokenizes\n",
    "            tokens_langs[item]=tokens #appends to output dictionary \n",
    "        elif 'en' in item:\n",
    "            text= dict_raw_texts[item][0] #gets text from dict in raw_files_names \n",
    "            model_lang= nlp_en #loads corresponding model\n",
    "            tokens= tokenizer(text, model_lang) #tokenizes\n",
    "            tokens_langs[item]=tokens #appends to output dictionary \n",
    "        elif 'zh' in item:\n",
    "            punc= [\"！？｡。＂＃＄％＆＇（）＊＋，－／：；＜＝＞＠［＼］＾＿｀｛｜｝～｟｠｢｣､、〃《》「」『』【】〔〕〖〗〘〙〚〛〜〝〞〟〰〾〿–—‘’‛“”„‟…‧﹏.　 ﹔\\\\n[]﹍\\\\n\", \"\\n\", \", \",\" \",\"，\",\": \",'。',\"-\"]\n",
    "            text= dict_raw_texts[item][0]\n",
    "            tok= jieba.lcut(text, cut_all = False)\n",
    "            tokens= [t for t in tok if t not in punc]\n",
    "            tokens_langs[item]=tokens\n",
    "       # elif 'ja' in item: CAMBIAR A OTRA LENGUA. Esta da muchos errores\n",
    "        #    text= dict_raw_texts[item][0]\n",
    "         #   model_lang= nlp_ja\n",
    "          #  tokens= tokenizer(text, model_lang) \n",
    "           # tokens_langs[item]=tokens \n",
    "        elif 'ru' in item:\n",
    "            text= dict_raw_texts[item][0]\n",
    "            model_lang= nlp_es \n",
    "            tokens= tokenizer(text, model_lang) \n",
    "            tokens_langs[item]=tokens \n",
    "    return tokens_langs\n",
    "\n",
    "#Dictionary for the pairs of words\n",
    "def create_dataframe(words_list, distance):\n",
    "    #Find all the pairs at given distance \n",
    "    pairs = [(words_list[i], words_list[i + distance], i) for i in range(len(words_list) - distance)]\n",
    "    #Save into a dataframe\n",
    "    df = pd.DataFrame(pairs, columns=['Token x', 'Token y', 'Position of Token x'])\n",
    "    df['Distance'] = distance\n",
    "    return df\n",
    "\n",
    "def collect_positions(df):\n",
    "    df_grouped = df.groupby(['Token x', 'Token y']).agg({'Position of Token x': list}).reset_index()\n",
    "    return df_grouped\n",
    "\n",
    "#Entropies\n",
    "def H_X(pairs) -> float:\n",
    "    token_counts = Counter(pairs[0])\n",
    "    F = big_f(pairs)\n",
    "    H = 0\n",
    "\n",
    "    for token_x, fx in token_counts.items():\n",
    "        if fx != 0:\n",
    "            H += fx * np.log(fx)\n",
    "\n",
    "    H /= F\n",
    "    H = np.log(F) - H\n",
    "\n",
    "    return H\n",
    "\n",
    "def H_Y(pairs) -> float:\n",
    "    token_counts = Counter(pairs[1])\n",
    "    F = big_f(pairs)\n",
    "    H = 0\n",
    "\n",
    "    for token_y, fy in token_counts.items():\n",
    "        if fy != 0:\n",
    "            H += fy * np.log(fy)\n",
    "\n",
    "    H /= F\n",
    "    H = np.log(F) - H\n",
    "    return H\n",
    "\n",
    "def H_XY(pairs, pairs_gr) -> float:\n",
    "    F = big_f(pairs)\n",
    "    H = 0\n",
    "    for pair in pairs_gr:\n",
    "        fr = len(pair[2])\n",
    "        if fr != 0:\n",
    "            H += fr * np.log(fr)\n",
    "\n",
    "    H /= F\n",
    "    H = np.log(F) - H\n",
    "\n",
    "    return H\n",
    "\n",
    "#Mutual information\n",
    "\n",
    "def I(pairs, pairs_gr) -> float: \n",
    "    HX = H_X(pairs)\n",
    "    HY = H_Y(pairs)\n",
    "    H = H_XY(pairs, pairs_gr)\n",
    "    return HX + HY - H"
   ]
  },
  {
   "cell_type": "code",
   "execution_count": 3,
   "metadata": {},
   "outputs": [],
   "source": [
    "raw_texts= extract_raw_texts(codes_langs)"
   ]
  },
  {
   "cell_type": "code",
   "execution_count": 4,
   "metadata": {},
   "outputs": [
    {
     "name": "stderr",
     "output_type": "stream",
     "text": [
      "Building prefix dict from d:\\CCiL\\Quantitative Linguistics\\lab_3\\data\\dict.txt.big ...\n",
      "Loading model from cache C:\\Users\\aleja\\AppData\\Local\\Temp\\jieba.u99ac4abbd7622d1b1b3539f613eae3f9.cache\n",
      "Loading model cost 1.986 seconds.\n",
      "Prefix dict has been built successfully.\n"
     ]
    }
   ],
   "source": [
    "tokenized_texts= tokens(raw_texts)"
   ]
  },
  {
   "cell_type": "code",
   "execution_count": 5,
   "metadata": {},
   "outputs": [
    {
     "data": {
      "text/plain": [
       "['THE',\n",
       " 'BOOK',\n",
       " 'OF',\n",
       " 'JADE',\n",
       " 'Illustration',\n",
       " 'Doxey',\n",
       " \"'s\",\n",
       " 'At',\n",
       " 'the',\n",
       " 'Sign',\n",
       " 'of',\n",
       " 'the',\n",
       " 'Lark',\n",
       " 'New',\n",
       " 'York',\n",
       " 'To',\n",
       " 'the',\n",
       " 'Memory',\n",
       " 'of',\n",
       " 'Charles',\n",
       " 'Baudelaire',\n",
       " 'TABLE',\n",
       " 'PRELUDE',\n",
       " 'PART',\n",
       " 'ONE',\n",
       " 'Ashtoreth',\n",
       " 'Parfait',\n",
       " 'Amour',\n",
       " 'Opium',\n",
       " 'Sombre',\n",
       " 'Sonnet',\n",
       " 'Languor',\n",
       " 'Ennui',\n",
       " 'Litany',\n",
       " 'Harvard',\n",
       " 'Pride',\n",
       " 'Song',\n",
       " 'of',\n",
       " 'Golden',\n",
       " 'Youth',\n",
       " 'Mais',\n",
       " 'Moi',\n",
       " 'Je',\n",
       " 'Vis',\n",
       " 'La',\n",
       " 'Vie',\n",
       " 'En',\n",
       " 'Rouge',\n",
       " 'Louanges',\n",
       " \"D'Elle\",\n",
       " 'Hélas',\n",
       " 'Sonnet',\n",
       " 'Sonnet',\n",
       " 'Rondeau',\n",
       " 'Autumn',\n",
       " 'Song',\n",
       " 'Ballad',\n",
       " 'Changelessness',\n",
       " 'Madonna',\n",
       " 'Poppy',\n",
       " 'Song',\n",
       " 'Consolation',\n",
       " 'Liebes',\n",
       " 'Tod',\n",
       " 'Evening',\n",
       " 'Song',\n",
       " 'Song',\n",
       " 'of',\n",
       " 'the',\n",
       " 'Stars',\n",
       " 'in',\n",
       " 'Praise',\n",
       " 'of',\n",
       " 'Her',\n",
       " 'Aubade',\n",
       " 'Remember',\n",
       " 'Song',\n",
       " 'Song',\n",
       " 'Constancy',\n",
       " 'Requiem',\n",
       " 'Autumn',\n",
       " 'Burial',\n",
       " 'Sonnet',\n",
       " 'of',\n",
       " 'Burial',\n",
       " 'Nocturne',\n",
       " 'PART',\n",
       " 'TWO',\n",
       " 'Mad',\n",
       " 'Sonnet',\n",
       " 'The',\n",
       " 'House',\n",
       " 'of',\n",
       " 'Youth',\n",
       " 'De',\n",
       " 'Profundis',\n",
       " 'Prayer',\n",
       " 'Sestettes',\n",
       " 'Sonnet',\n",
       " 'of',\n",
       " 'the',\n",
       " 'Instruments',\n",
       " 'of',\n",
       " 'Death',\n",
       " 'Truth',\n",
       " 'Hegel',\n",
       " 'Monotony',\n",
       " 'Sepulture',\n",
       " 'Miserrimus',\n",
       " 'Scorn',\n",
       " 'The',\n",
       " 'Grave',\n",
       " 'Mummy',\n",
       " 'Sepulchral',\n",
       " 'Life',\n",
       " 'Corpse',\n",
       " 'Mankind',\n",
       " 'The',\n",
       " 'Defilers',\n",
       " 'The',\n",
       " 'Grotesques',\n",
       " 'Dead',\n",
       " 'Dialogue',\n",
       " 'Fragments',\n",
       " 'Envoi',\n",
       " 'POSTLUDE',\n",
       " 'Dedication',\n",
       " 'PRELUDE',\n",
       " 'I',\n",
       " 'am',\n",
       " 'a',\n",
       " 'little',\n",
       " 'tired',\n",
       " 'of',\n",
       " 'all',\n",
       " 'things',\n",
       " 'mortal',\n",
       " 'I',\n",
       " 'see',\n",
       " 'through',\n",
       " 'half',\n",
       " 'shut',\n",
       " 'eyelids',\n",
       " 'languorous',\n",
       " 'The',\n",
       " 'old',\n",
       " 'monotonous',\n",
       " 'Gold',\n",
       " 'sun',\n",
       " 'set',\n",
       " 'slowly',\n",
       " 'through',\n",
       " 'the',\n",
       " 'western',\n",
       " 'portal',\n",
       " 'Where',\n",
       " 'I',\n",
       " 'recline',\n",
       " 'upon',\n",
       " 'my',\n",
       " 'deep',\n",
       " 'dîwân',\n",
       " 'In',\n",
       " 'Ispahân',\n",
       " 'I',\n",
       " 'am',\n",
       " 'a',\n",
       " 'little',\n",
       " 'weary',\n",
       " 'of',\n",
       " 'the',\n",
       " 'Persian',\n",
       " 'Girl',\n",
       " 'that',\n",
       " 'I',\n",
       " \"lov'd\",\n",
       " 'I',\n",
       " 'am',\n",
       " 'quite',\n",
       " \"tir'd\",\n",
       " 'of',\n",
       " 'love',\n",
       " 'And',\n",
       " 'I',\n",
       " 'am',\n",
       " 'weary',\n",
       " 'of',\n",
       " 'The',\n",
       " 'smoking',\n",
       " 'censers',\n",
       " 'and',\n",
       " 'the',\n",
       " 'sweet',\n",
       " 'diversion',\n",
       " 'Of',\n",
       " 'stroking',\n",
       " 'Leila',\n",
       " \"'s\",\n",
       " 'jasmine',\n",
       " 'scented',\n",
       " 'hair',\n",
       " 'I',\n",
       " 'thought',\n",
       " 'so',\n",
       " 'fair',\n",
       " 'At',\n",
       " 'last',\n",
       " 'I',\n",
       " 'think',\n",
       " 'I',\n",
       " 'am',\n",
       " 'quite',\n",
       " 'tired',\n",
       " 'of',\n",
       " 'beauty',\n",
       " 'Why',\n",
       " 'do',\n",
       " 'the',\n",
       " 'stars',\n",
       " 'shine',\n",
       " 'always',\n",
       " 'in',\n",
       " 'the',\n",
       " 'sky',\n",
       " 'I',\n",
       " 'think',\n",
       " 'if',\n",
       " 'I',\n",
       " 'might',\n",
       " 'die',\n",
       " 'Something',\n",
       " 'more',\n",
       " 'sweet',\n",
       " 'less',\n",
       " 'tiring',\n",
       " 'than',\n",
       " 'the',\n",
       " 'duty',\n",
       " 'Of',\n",
       " 'kissing',\n",
       " 'her',\n",
       " 'might',\n",
       " 'be',\n",
       " 'I',\n",
       " 'am',\n",
       " 'tired',\n",
       " 'of',\n",
       " 'myrrh',\n",
       " 'And',\n",
       " 'kissing',\n",
       " 'her',\n",
       " 'Khaled',\n",
       " 'come',\n",
       " 'come',\n",
       " 'and',\n",
       " 'slowly',\n",
       " 'move',\n",
       " 'the',\n",
       " 'scented',\n",
       " 'Gold',\n",
       " 'narghilé',\n",
       " 'away',\n",
       " 'let',\n",
       " 'the',\n",
       " 'lyres',\n",
       " 'cease',\n",
       " 'And',\n",
       " 'now',\n",
       " 'a',\n",
       " 'little',\n",
       " 'peace',\n",
       " 'For',\n",
       " 'see',\n",
       " 'moon',\n",
       " 'faced',\n",
       " 'Leila',\n",
       " 'hath',\n",
       " 'repented',\n",
       " 'Of',\n",
       " 'singing',\n",
       " 'Hafiz',\n",
       " 'songs',\n",
       " 'melodiously',\n",
       " 'And',\n",
       " 'languidly',\n",
       " 'Surely',\n",
       " 'all',\n",
       " 'things',\n",
       " 'are',\n",
       " 'vain',\n",
       " 'and',\n",
       " 'great',\n",
       " 'thanksgiving',\n",
       " 'Is',\n",
       " 'due',\n",
       " 'not',\n",
       " 'surely',\n",
       " 'all',\n",
       " 'things',\n",
       " 'now',\n",
       " 'are',\n",
       " 'vain',\n",
       " 'And',\n",
       " 'all',\n",
       " 'my',\n",
       " 'heart',\n",
       " 'is',\n",
       " 'fain',\n",
       " 'Of',\n",
       " 'something',\n",
       " 'something',\n",
       " 'far',\n",
       " 'too',\n",
       " 'great',\n",
       " 'for',\n",
       " 'living',\n",
       " 'Nothing',\n",
       " 'is',\n",
       " 'very',\n",
       " 'sad',\n",
       " 'nor',\n",
       " 'wonderful',\n",
       " 'Nor',\n",
       " 'beautiful',\n",
       " 'Well',\n",
       " 'now',\n",
       " 'since',\n",
       " 'all',\n",
       " 'things',\n",
       " 'are',\n",
       " 'not',\n",
       " 'worth',\n",
       " 'the',\n",
       " 'winning',\n",
       " 'Goodbye',\n",
       " 'With',\n",
       " 'these',\n",
       " 'I',\n",
       " 'have',\n",
       " 'a',\n",
       " 'little',\n",
       " \"play'd\",\n",
       " 'And',\n",
       " 'once',\n",
       " 'alas',\n",
       " 'I',\n",
       " \"pray'd\",\n",
       " 'That',\n",
       " 'gorgeous',\n",
       " 'golden',\n",
       " 'sins',\n",
       " 'be',\n",
       " 'mine',\n",
       " 'for',\n",
       " 'sinning',\n",
       " 'But',\n",
       " 'now',\n",
       " 'I',\n",
       " 'would',\n",
       " 'not',\n",
       " 'leave',\n",
       " 'my',\n",
       " 'palanquin',\n",
       " 'For',\n",
       " 'any',\n",
       " 'sin',\n",
       " 'And',\n",
       " 'long',\n",
       " 'ago',\n",
       " 'I',\n",
       " \"prov'd\",\n",
       " 'in',\n",
       " 'great',\n",
       " 'compassion',\n",
       " 'For',\n",
       " 'man',\n",
       " 'that',\n",
       " 'Brahm',\n",
       " 'is',\n",
       " 'not',\n",
       " 'nor',\n",
       " 'ever',\n",
       " 'was',\n",
       " 'But',\n",
       " 'now',\n",
       " 'alas',\n",
       " 'alas',\n",
       " 'I',\n",
       " 'would',\n",
       " 'he',\n",
       " 'were',\n",
       " 'that',\n",
       " 'in',\n",
       " 'the',\n",
       " 'olden',\n",
       " 'fashion',\n",
       " 'I',\n",
       " 'might',\n",
       " 'laugh',\n",
       " 'once',\n",
       " 'again',\n",
       " 'ere',\n",
       " 'all',\n",
       " 'is',\n",
       " 'said',\n",
       " 'But',\n",
       " 'Brahm',\n",
       " 'is',\n",
       " 'dead',\n",
       " 'Then',\n",
       " 'with',\n",
       " 'philosophy',\n",
       " 'I',\n",
       " \"bor'd\",\n",
       " 'me',\n",
       " 'duly',\n",
       " 'And',\n",
       " 'since',\n",
       " 'I',\n",
       " 'could',\n",
       " 'not',\n",
       " 'slumber',\n",
       " 'all',\n",
       " 'the',\n",
       " 'time',\n",
       " 'I',\n",
       " 'in',\n",
       " 'sweet',\n",
       " 'golden',\n",
       " 'rhyme',\n",
       " 'On',\n",
       " 'white',\n",
       " 'papyrus',\n",
       " 'scented',\n",
       " 'with',\n",
       " 'patchouli',\n",
       " 'Wrote',\n",
       " 'masterpieces',\n",
       " 'starry',\n",
       " 'beautiful',\n",
       " 'The',\n",
       " 'earth',\n",
       " 'was',\n",
       " 'full',\n",
       " 'So',\n",
       " 'beauty',\n",
       " 'wearied',\n",
       " 'me',\n",
       " 'in',\n",
       " 'order',\n",
       " 'slowly',\n",
       " 'Love',\n",
       " 'Joy',\n",
       " 'and',\n",
       " 'Victory',\n",
       " 'came',\n",
       " 'unto',\n",
       " 'me',\n",
       " 'I',\n",
       " \"kiss'd\",\n",
       " 'them',\n",
       " 'languidly',\n",
       " 'And',\n",
       " 'Virtue',\n",
       " 'came',\n",
       " 'and',\n",
       " 'Duty',\n",
       " 'stiff',\n",
       " 'and',\n",
       " 'holy',\n",
       " 'To',\n",
       " 'these',\n",
       " 'I',\n",
       " 'said',\n",
       " 'Pray',\n",
       " 'come',\n",
       " 'another',\n",
       " 'day',\n",
       " 'And',\n",
       " \"turn'd\",\n",
       " 'away',\n",
       " 'Now',\n",
       " 'since',\n",
       " 'of',\n",
       " 'all',\n",
       " 'I',\n",
       " 'am',\n",
       " 'a',\n",
       " 'little',\n",
       " 'weary',\n",
       " 'And',\n",
       " 'since',\n",
       " 'on',\n",
       " 'earth',\n",
       " 'I',\n",
       " 'must',\n",
       " 'a',\n",
       " 'while',\n",
       " 'sojourn',\n",
       " 'And',\n",
       " 'since',\n",
       " 'a',\n",
       " 'while',\n",
       " 'must',\n",
       " 'burn',\n",
       " 'The',\n",
       " 'censer',\n",
       " 'of',\n",
       " 'my',\n",
       " 'long',\n",
       " 'existence',\n",
       " 'dreary',\n",
       " 'All',\n",
       " 'things',\n",
       " 'shall',\n",
       " 'walk',\n",
       " 'that',\n",
       " 'own',\n",
       " 'my',\n",
       " 'mastery',\n",
       " 'In',\n",
       " 'luxury',\n",
       " 'My',\n",
       " 'Ennui',\n",
       " 'shall',\n",
       " 'in',\n",
       " 'vestments',\n",
       " 'falling',\n",
       " 'lowly',\n",
       " 'Stiff',\n",
       " 'purple',\n",
       " 'trailing',\n",
       " 'long',\n",
       " 'episcopal',\n",
       " 'Sweep',\n",
       " 'through',\n",
       " 'her',\n",
       " 'palace',\n",
       " 'hall',\n",
       " 'Like',\n",
       " 'to',\n",
       " 'a',\n",
       " 'consecrated',\n",
       " 'bishop',\n",
       " 'holy',\n",
       " 'My',\n",
       " 'Sin',\n",
       " 'from',\n",
       " 'golden',\n",
       " 'goblets',\n",
       " 'of',\n",
       " 'Byzant',\n",
       " 'Shall',\n",
       " 'drink',\n",
       " 'absinthe',\n",
       " 'And',\n",
       " 'my',\n",
       " 'gold',\n",
       " 'crowned',\n",
       " 'wanton',\n",
       " 'goddess',\n",
       " 'Pleasure',\n",
       " 'My',\n",
       " 'candles',\n",
       " 'are',\n",
       " 'all',\n",
       " 'burning',\n",
       " 'at',\n",
       " 'her',\n",
       " 'shrine',\n",
       " 'Shall',\n",
       " 'be',\n",
       " 'made',\n",
       " 'drunk',\n",
       " 'with',\n",
       " 'wine',\n",
       " 'And',\n",
       " 'walk',\n",
       " 'unto',\n",
       " 'the',\n",
       " 'velvet',\n",
       " 'falling',\n",
       " 'measure',\n",
       " 'Of',\n",
       " 'golden',\n",
       " 'voiced',\n",
       " 'solemn',\n",
       " 'sounding',\n",
       " 'shawms',\n",
       " 'No',\n",
       " 'rhyme',\n",
       " 'for',\n",
       " 'shawms',\n",
       " 'All',\n",
       " 'they',\n",
       " 'that',\n",
       " 'wait',\n",
       " 'upon',\n",
       " 'me',\n",
       " 'in',\n",
       " 'my',\n",
       " 'glory',\n",
       " 'My',\n",
       " 'purple',\n",
       " 'Pride',\n",
       " 'and',\n",
       " 'my',\n",
       " 'Luxuriousness',\n",
       " 'And',\n",
       " 'my',\n",
       " 'Voluptuousness',\n",
       " 'Shall',\n",
       " 'show',\n",
       " 'within',\n",
       " 'their',\n",
       " 'faces',\n",
       " 'transitory',\n",
       " 'Something',\n",
       " 'more',\n",
       " 'subtile',\n",
       " 'than',\n",
       " 'all',\n",
       " 'life',\n",
       " 'can',\n",
       " 'give',\n",
       " 'While',\n",
       " 'I',\n",
       " 'shall',\n",
       " 'live',\n",
       " 'Ah',\n",
       " 'all',\n",
       " 'is',\n",
       " \"liv'd\",\n",
       " 'all',\n",
       " 'eaten',\n",
       " 'all',\n",
       " 'is',\n",
       " 'drunken',\n",
       " 'Soul',\n",
       " 'is',\n",
       " 'there',\n",
       " 'anything',\n",
       " 'now',\n",
       " 'left',\n",
       " 'for',\n",
       " 'thee',\n",
       " 'Excepting',\n",
       " 'sanctity',\n",
       " 'Nay',\n",
       " \"ev'n\",\n",
       " 'we',\n",
       " 'too',\n",
       " 'have',\n",
       " 'been',\n",
       " 'in',\n",
       " 'virtue',\n",
       " 'sunken',\n",
       " 'We',\n",
       " 'have',\n",
       " 'been',\n",
       " 'holy',\n",
       " 'priest',\n",
       " 'we',\n",
       " 'have',\n",
       " \"confess'd\",\n",
       " 'Said',\n",
       " 'Missa',\n",
       " 'Est',\n",
       " 'I',\n",
       " 'have',\n",
       " 'drunk',\n",
       " 'out',\n",
       " 'of',\n",
       " 'heavy',\n",
       " 'goblets',\n",
       " 'golden',\n",
       " 'As',\n",
       " 'from',\n",
       " 'some',\n",
       " 'hellish',\n",
       " 'tabernaculum',\n",
       " 'Cannabis',\n",
       " 'conium',\n",
       " 'I',\n",
       " 'know',\n",
       " 'quite',\n",
       " 'all',\n",
       " 'the',\n",
       " 'poisons',\n",
       " 'all',\n",
       " 'the',\n",
       " 'olden',\n",
       " 'Sins',\n",
       " 'all',\n",
       " 'the',\n",
       " 'ténébreux',\n",
       " 'dark',\n",
       " 'secrets',\n",
       " 'hid',\n",
       " 'And',\n",
       " 'things',\n",
       " 'forbid',\n",
       " 'I',\n",
       " 'have',\n",
       " 'had',\n",
       " 'all',\n",
       " 'things',\n",
       " 'unto',\n",
       " 'mortals',\n",
       " 'given',\n",
       " 'I',\n",
       " 'all',\n",
       " 'the',\n",
       " 'women',\n",
       " 'all',\n",
       " 'the',\n",
       " 'passion',\n",
       " 'I',\n",
       " 'All',\n",
       " 'the',\n",
       " 'satiety',\n",
       " 'I',\n",
       " 'have',\n",
       " 'had',\n",
       " 'all',\n",
       " 'the',\n",
       " 'pleasures',\n",
       " 'known',\n",
       " 'in',\n",
       " 'heaven',\n",
       " 'Paradisiacal',\n",
       " 'purpureal',\n",
       " 'Exstatical',\n",
       " 'With',\n",
       " 'all',\n",
       " 'the',\n",
       " 'sciences',\n",
       " 'I',\n",
       " 'am',\n",
       " 'acquainted',\n",
       " 'Alas',\n",
       " 'I',\n",
       " 'know',\n",
       " 'quite',\n",
       " 'all',\n",
       " 'the',\n",
       " 'languages',\n",
       " 'All',\n",
       " 'the',\n",
       " 'philosophies',\n",
       " 'Alas',\n",
       " 'and',\n",
       " 'all',\n",
       " 'the',\n",
       " 'pictures',\n",
       " 'that',\n",
       " 'are',\n",
       " 'painted',\n",
       " 'And',\n",
       " 'all',\n",
       " 'the',\n",
       " \"palac'd\",\n",
       " 'capitals',\n",
       " 'that',\n",
       " 'be',\n",
       " 'Have',\n",
       " 'wearied',\n",
       " 'me',\n",
       " 'Alas',\n",
       " 'all',\n",
       " 'art',\n",
       " 'all',\n",
       " 'knowledge',\n",
       " 'and',\n",
       " 'all',\n",
       " 'passion',\n",
       " 'I',\n",
       " 'have',\n",
       " 'had',\n",
       " 'I',\n",
       " 'have',\n",
       " 'heard',\n",
       " 'all',\n",
       " 'the',\n",
       " 'symphonies',\n",
       " 'I',\n",
       " 'have',\n",
       " \"sail'd\",\n",
       " 'all',\n",
       " 'the',\n",
       " 'seas',\n",
       " 'I',\n",
       " 'have',\n",
       " \"drain'd\",\n",
       " 'all',\n",
       " 'life',\n",
       " \"'s\",\n",
       " 'cup',\n",
       " 'in',\n",
       " 'languid',\n",
       " 'fashion',\n",
       " 'And',\n",
       " 'I',\n",
       " 'am',\n",
       " 'come',\n",
       " 'to',\n",
       " 'Persia',\n",
       " 'again',\n",
       " 'Land',\n",
       " 'of',\n",
       " 'cocagne',\n",
       " 'THE',\n",
       " 'BOOK',\n",
       " 'OF',\n",
       " 'JADE',\n",
       " 'PART',\n",
       " 'ONE',\n",
       " 'ASHTORETH',\n",
       " 'In',\n",
       " 'thy',\n",
       " 'blue',\n",
       " 'pallid',\n",
       " 'gown',\n",
       " 'that',\n",
       " 'shimmereth',\n",
       " 'So',\n",
       " 'pale',\n",
       " 'thou',\n",
       " 'standest',\n",
       " 'in',\n",
       " 'the',\n",
       " 'wan',\n",
       " 'moonlight',\n",
       " 'Where',\n",
       " 'the',\n",
       " 'gold',\n",
       " 'censer',\n",
       " 'near',\n",
       " 'thy',\n",
       " 'body',\n",
       " 'white',\n",
       " 'Wraps',\n",
       " 'thee',\n",
       " 'around',\n",
       " 'with',\n",
       " 'its',\n",
       " 'perfumed',\n",
       " 'breath',\n",
       " 'So',\n",
       " 'wan',\n",
       " 'thy',\n",
       " 'high',\n",
       " 'tiara',\n",
       " 'glimmereth',\n",
       " 'Above',\n",
       " 'thy',\n",
       " 'mystical',\n",
       " 'far',\n",
       " 'eyes',\n",
       " 'of',\n",
       " 'light',\n",
       " 'Thou',\n",
       " 'seemest',\n",
       " 'some',\n",
       " 'dead',\n",
       " 'goddess',\n",
       " 'of',\n",
       " 'the',\n",
       " 'night',\n",
       " 'O',\n",
       " 'starry',\n",
       " 'love',\n",
       " 'O',\n",
       " 'changeless',\n",
       " 'Ashtoreth',\n",
       " 'Pallid',\n",
       " 'thou',\n",
       " 'standest',\n",
       " 'in',\n",
       " 'thy',\n",
       " 'divinity',\n",
       " 'Like',\n",
       " 'some',\n",
       " 'moon',\n",
       " 'idol',\n",
       " 'of',\n",
       " 'the',\n",
       " 'buried',\n",
       " 'time',\n",
       " 'Before',\n",
       " 'whose',\n",
       " 'face',\n",
       " 'priests',\n",
       " 'sing',\n",
       " 'in',\n",
       " 'solemn',\n",
       " 'chime',\n",
       " 'So',\n",
       " 'I',\n",
       " 'prostrate',\n",
       " 'before',\n",
       " 'thy',\n",
       " 'deity',\n",
       " 'Unto',\n",
       " 'thy',\n",
       " 'face',\n",
       " 'have',\n",
       " 'solemn',\n",
       " 'praises',\n",
       " 'sung',\n",
       " 'And',\n",
       " 'in',\n",
       " 'my',\n",
       " 'hands',\n",
       " 'a',\n",
       " 'golden',\n",
       " 'censer',\n",
       " 'swung',\n",
       " 'PARFAIT',\n",
       " 'AMOUR',\n",
       " 'It',\n",
       " 'is',\n",
       " 'not',\n",
       " 'that',\n",
       " 'thy',\n",
       " 'face',\n",
       " 'is',\n",
       " 'fair',\n",
       " 'As',\n",
       " 'dying',\n",
       " 'sunsets',\n",
       " 'are',\n",
       " 'Nor',\n",
       " 'that',\n",
       " 'thy',\n",
       " 'lovely',\n",
       " 'eyelids',\n",
       " 'wear',\n",
       " 'The',\n",
       " 'splendour',\n",
       " 'of',\n",
       " 'a',\n",
       " 'star',\n",
       " 'Tis',\n",
       " 'the',\n",
       " 'deep',\n",
       " 'sadness',\n",
       " 'of',\n",
       " 'thine',\n",
       " 'eyes',\n",
       " 'Hath',\n",
       " 'my',\n",
       " 'heart',\n",
       " 'captive',\n",
       " 'led',\n",
       " 'And',\n",
       " 'that',\n",
       " 'within',\n",
       " 'thy',\n",
       " 'soul',\n",
       " 'I',\n",
       " 'prize',\n",
       " 'The',\n",
       " 'calmness',\n",
       " 'of',\n",
       " 'the',\n",
       " 'dead',\n",
       " 'O',\n",
       " 'holy',\n",
       " 'love',\n",
       " 'O',\n",
       " 'fair',\n",
       " 'white',\n",
       " 'face',\n",
       " 'O',\n",
       " 'sweet',\n",
       " 'lost',\n",
       " 'soul',\n",
       " 'of',\n",
       " 'thine',\n",
       " 'Thy',\n",
       " 'bosom',\n",
       " 'is',\n",
       " 'an',\n",
       " 'altar',\n",
       " 'place',\n",
       " 'Thy',\n",
       " 'kisses',\n",
       " 'holy',\n",
       " 'wine',\n",
       " 'Sweet',\n",
       " 'incense',\n",
       " \"offer'd\",\n",
       " 'for',\n",
       " 'my',\n",
       " 'bliss',\n",
       " 'Is',\n",
       " 'thy',\n",
       " 'corrupted',\n",
       " 'breath',\n",
       " ...]"
      ]
     },
     "execution_count": 5,
     "metadata": {},
     "output_type": "execute_result"
    }
   ],
   "source": [
    "tokenized_texts['en_book3.txt']"
   ]
  },
  {
   "cell_type": "code",
   "execution_count": 337,
   "metadata": {},
   "outputs": [
    {
     "name": "stderr",
     "output_type": "stream",
     "text": [
      "100%|██████████| 49/49 [01:29<00:00,  1.82s/it]"
     ]
    },
    {
     "name": "stdout",
     "output_type": "stream",
     "text": [
      "[0.         4.4785212  4.0716655  3.97574931 3.94599839 3.93358154\n",
      " 3.92621809 3.91956053 3.91610042 3.91780302 3.91306368 3.91412179\n",
      " 3.91311793 3.91322618 3.91335384 3.9129089  3.90697638 3.90767422\n",
      " 3.90706941 3.91110741 3.91153067 3.90911863 3.90764111 3.9058589\n",
      " 3.9057672  3.90277385 3.90555785 3.90520785 3.90664827 3.9052327\n",
      " 3.90500558 3.90300452 3.90828146 3.90480953 3.9027206  3.90154009\n",
      " 3.90405181 3.90223376 3.90257428 3.8997887  3.90239686 3.90033816\n",
      " 3.90165543 3.90136538 3.9053431  3.8992504  3.90098382 3.89771988\n",
      " 3.89673642 3.90039487]\n"
     ]
    },
    {
     "name": "stderr",
     "output_type": "stream",
     "text": [
      "\n"
     ]
    }
   ],
   "source": [
    "max_d = 50\n",
    "MI = np.zeros(max_d)\n",
    "\n",
    "for i in tqdm(range(1, max_d)):\n",
    "\n",
    "    pairs = create_dataframe(clean_tokens, i)\n",
    "    pairs_grouped = collect_positions(pairs)\n",
    "\n",
    "    pairs_np = np.transpose(pairs.to_numpy())\n",
    "    pairs_grouped_np = pairs_grouped.to_numpy()\n",
    "\n",
    "    MI[i] = I(pairs_np, pairs_grouped_np)\n",
    "\n",
    "print(MI)"
   ]
  },
  {
   "cell_type": "code",
   "execution_count": 361,
   "metadata": {},
   "outputs": [
    {
     "data": {
      "application/vnd.plotly.v1+json": {
       "config": {
        "plotlyServerURL": "https://plot.ly"
       },
       "data": [
        {
         "mode": "markers",
         "type": "scatter",
         "x": [
          1,
          2,
          3,
          4,
          5,
          6,
          7,
          8,
          9,
          10,
          11,
          12,
          13,
          14,
          15,
          16,
          17,
          18,
          19,
          20,
          21,
          22,
          23,
          24,
          25,
          26,
          27,
          28,
          29,
          30,
          31,
          32,
          33,
          34,
          35,
          36,
          37,
          38,
          39,
          40,
          41,
          42,
          43,
          44,
          45,
          46,
          47,
          48,
          49
         ],
         "y": [
          4.4785212009506505,
          4.071665501990861,
          3.9757493128336137,
          3.9459983914462686,
          3.933581542132325,
          3.926218089792,
          3.919560529121627,
          3.9161004230759318,
          3.9178030219249145,
          3.9130636831902663,
          3.9141217859452553,
          3.9131179345848555,
          3.9132261795650187,
          3.9133538389111937,
          3.9129089019731307,
          3.906976376821458,
          3.907674215799789,
          3.907069412278007,
          3.9111074127374437,
          3.911530668275912,
          3.9091186301593286,
          3.9076411079485176,
          3.9058589025950567,
          3.9057672007292545,
          3.9027738488736556,
          3.9055578492513146,
          3.905207848848322,
          3.9066482703739176,
          3.905232704691702,
          3.9050055782282396,
          3.9030045238951026,
          3.9082814568235538,
          3.904809529737223,
          3.9027206043713925,
          3.901540086964177,
          3.904051809136673,
          3.9022337636226503,
          3.902574283963787,
          3.89978869894008,
          3.902396860501552,
          3.9003381559501733,
          3.9016554271043784,
          3.901365384296861,
          3.9053431005846644,
          3.8992503950599513,
          3.9009838206107226,
          3.8977198808589684,
          3.8967364201967367,
          3.9003948749716244
         ]
        }
       ],
       "layout": {
        "template": {
         "data": {
          "bar": [
           {
            "error_x": {
             "color": "#2a3f5f"
            },
            "error_y": {
             "color": "#2a3f5f"
            },
            "marker": {
             "line": {
              "color": "#E5ECF6",
              "width": 0.5
             },
             "pattern": {
              "fillmode": "overlay",
              "size": 10,
              "solidity": 0.2
             }
            },
            "type": "bar"
           }
          ],
          "barpolar": [
           {
            "marker": {
             "line": {
              "color": "#E5ECF6",
              "width": 0.5
             },
             "pattern": {
              "fillmode": "overlay",
              "size": 10,
              "solidity": 0.2
             }
            },
            "type": "barpolar"
           }
          ],
          "carpet": [
           {
            "aaxis": {
             "endlinecolor": "#2a3f5f",
             "gridcolor": "white",
             "linecolor": "white",
             "minorgridcolor": "white",
             "startlinecolor": "#2a3f5f"
            },
            "baxis": {
             "endlinecolor": "#2a3f5f",
             "gridcolor": "white",
             "linecolor": "white",
             "minorgridcolor": "white",
             "startlinecolor": "#2a3f5f"
            },
            "type": "carpet"
           }
          ],
          "choropleth": [
           {
            "colorbar": {
             "outlinewidth": 0,
             "ticks": ""
            },
            "type": "choropleth"
           }
          ],
          "contour": [
           {
            "colorbar": {
             "outlinewidth": 0,
             "ticks": ""
            },
            "colorscale": [
             [
              0,
              "#0d0887"
             ],
             [
              0.1111111111111111,
              "#46039f"
             ],
             [
              0.2222222222222222,
              "#7201a8"
             ],
             [
              0.3333333333333333,
              "#9c179e"
             ],
             [
              0.4444444444444444,
              "#bd3786"
             ],
             [
              0.5555555555555556,
              "#d8576b"
             ],
             [
              0.6666666666666666,
              "#ed7953"
             ],
             [
              0.7777777777777778,
              "#fb9f3a"
             ],
             [
              0.8888888888888888,
              "#fdca26"
             ],
             [
              1,
              "#f0f921"
             ]
            ],
            "type": "contour"
           }
          ],
          "contourcarpet": [
           {
            "colorbar": {
             "outlinewidth": 0,
             "ticks": ""
            },
            "type": "contourcarpet"
           }
          ],
          "heatmap": [
           {
            "colorbar": {
             "outlinewidth": 0,
             "ticks": ""
            },
            "colorscale": [
             [
              0,
              "#0d0887"
             ],
             [
              0.1111111111111111,
              "#46039f"
             ],
             [
              0.2222222222222222,
              "#7201a8"
             ],
             [
              0.3333333333333333,
              "#9c179e"
             ],
             [
              0.4444444444444444,
              "#bd3786"
             ],
             [
              0.5555555555555556,
              "#d8576b"
             ],
             [
              0.6666666666666666,
              "#ed7953"
             ],
             [
              0.7777777777777778,
              "#fb9f3a"
             ],
             [
              0.8888888888888888,
              "#fdca26"
             ],
             [
              1,
              "#f0f921"
             ]
            ],
            "type": "heatmap"
           }
          ],
          "heatmapgl": [
           {
            "colorbar": {
             "outlinewidth": 0,
             "ticks": ""
            },
            "colorscale": [
             [
              0,
              "#0d0887"
             ],
             [
              0.1111111111111111,
              "#46039f"
             ],
             [
              0.2222222222222222,
              "#7201a8"
             ],
             [
              0.3333333333333333,
              "#9c179e"
             ],
             [
              0.4444444444444444,
              "#bd3786"
             ],
             [
              0.5555555555555556,
              "#d8576b"
             ],
             [
              0.6666666666666666,
              "#ed7953"
             ],
             [
              0.7777777777777778,
              "#fb9f3a"
             ],
             [
              0.8888888888888888,
              "#fdca26"
             ],
             [
              1,
              "#f0f921"
             ]
            ],
            "type": "heatmapgl"
           }
          ],
          "histogram": [
           {
            "marker": {
             "pattern": {
              "fillmode": "overlay",
              "size": 10,
              "solidity": 0.2
             }
            },
            "type": "histogram"
           }
          ],
          "histogram2d": [
           {
            "colorbar": {
             "outlinewidth": 0,
             "ticks": ""
            },
            "colorscale": [
             [
              0,
              "#0d0887"
             ],
             [
              0.1111111111111111,
              "#46039f"
             ],
             [
              0.2222222222222222,
              "#7201a8"
             ],
             [
              0.3333333333333333,
              "#9c179e"
             ],
             [
              0.4444444444444444,
              "#bd3786"
             ],
             [
              0.5555555555555556,
              "#d8576b"
             ],
             [
              0.6666666666666666,
              "#ed7953"
             ],
             [
              0.7777777777777778,
              "#fb9f3a"
             ],
             [
              0.8888888888888888,
              "#fdca26"
             ],
             [
              1,
              "#f0f921"
             ]
            ],
            "type": "histogram2d"
           }
          ],
          "histogram2dcontour": [
           {
            "colorbar": {
             "outlinewidth": 0,
             "ticks": ""
            },
            "colorscale": [
             [
              0,
              "#0d0887"
             ],
             [
              0.1111111111111111,
              "#46039f"
             ],
             [
              0.2222222222222222,
              "#7201a8"
             ],
             [
              0.3333333333333333,
              "#9c179e"
             ],
             [
              0.4444444444444444,
              "#bd3786"
             ],
             [
              0.5555555555555556,
              "#d8576b"
             ],
             [
              0.6666666666666666,
              "#ed7953"
             ],
             [
              0.7777777777777778,
              "#fb9f3a"
             ],
             [
              0.8888888888888888,
              "#fdca26"
             ],
             [
              1,
              "#f0f921"
             ]
            ],
            "type": "histogram2dcontour"
           }
          ],
          "mesh3d": [
           {
            "colorbar": {
             "outlinewidth": 0,
             "ticks": ""
            },
            "type": "mesh3d"
           }
          ],
          "parcoords": [
           {
            "line": {
             "colorbar": {
              "outlinewidth": 0,
              "ticks": ""
             }
            },
            "type": "parcoords"
           }
          ],
          "pie": [
           {
            "automargin": true,
            "type": "pie"
           }
          ],
          "scatter": [
           {
            "fillpattern": {
             "fillmode": "overlay",
             "size": 10,
             "solidity": 0.2
            },
            "type": "scatter"
           }
          ],
          "scatter3d": [
           {
            "line": {
             "colorbar": {
              "outlinewidth": 0,
              "ticks": ""
             }
            },
            "marker": {
             "colorbar": {
              "outlinewidth": 0,
              "ticks": ""
             }
            },
            "type": "scatter3d"
           }
          ],
          "scattercarpet": [
           {
            "marker": {
             "colorbar": {
              "outlinewidth": 0,
              "ticks": ""
             }
            },
            "type": "scattercarpet"
           }
          ],
          "scattergeo": [
           {
            "marker": {
             "colorbar": {
              "outlinewidth": 0,
              "ticks": ""
             }
            },
            "type": "scattergeo"
           }
          ],
          "scattergl": [
           {
            "marker": {
             "colorbar": {
              "outlinewidth": 0,
              "ticks": ""
             }
            },
            "type": "scattergl"
           }
          ],
          "scattermapbox": [
           {
            "marker": {
             "colorbar": {
              "outlinewidth": 0,
              "ticks": ""
             }
            },
            "type": "scattermapbox"
           }
          ],
          "scatterpolar": [
           {
            "marker": {
             "colorbar": {
              "outlinewidth": 0,
              "ticks": ""
             }
            },
            "type": "scatterpolar"
           }
          ],
          "scatterpolargl": [
           {
            "marker": {
             "colorbar": {
              "outlinewidth": 0,
              "ticks": ""
             }
            },
            "type": "scatterpolargl"
           }
          ],
          "scatterternary": [
           {
            "marker": {
             "colorbar": {
              "outlinewidth": 0,
              "ticks": ""
             }
            },
            "type": "scatterternary"
           }
          ],
          "surface": [
           {
            "colorbar": {
             "outlinewidth": 0,
             "ticks": ""
            },
            "colorscale": [
             [
              0,
              "#0d0887"
             ],
             [
              0.1111111111111111,
              "#46039f"
             ],
             [
              0.2222222222222222,
              "#7201a8"
             ],
             [
              0.3333333333333333,
              "#9c179e"
             ],
             [
              0.4444444444444444,
              "#bd3786"
             ],
             [
              0.5555555555555556,
              "#d8576b"
             ],
             [
              0.6666666666666666,
              "#ed7953"
             ],
             [
              0.7777777777777778,
              "#fb9f3a"
             ],
             [
              0.8888888888888888,
              "#fdca26"
             ],
             [
              1,
              "#f0f921"
             ]
            ],
            "type": "surface"
           }
          ],
          "table": [
           {
            "cells": {
             "fill": {
              "color": "#EBF0F8"
             },
             "line": {
              "color": "white"
             }
            },
            "header": {
             "fill": {
              "color": "#C8D4E3"
             },
             "line": {
              "color": "white"
             }
            },
            "type": "table"
           }
          ]
         },
         "layout": {
          "annotationdefaults": {
           "arrowcolor": "#2a3f5f",
           "arrowhead": 0,
           "arrowwidth": 1
          },
          "autotypenumbers": "strict",
          "coloraxis": {
           "colorbar": {
            "outlinewidth": 0,
            "ticks": ""
           }
          },
          "colorscale": {
           "diverging": [
            [
             0,
             "#8e0152"
            ],
            [
             0.1,
             "#c51b7d"
            ],
            [
             0.2,
             "#de77ae"
            ],
            [
             0.3,
             "#f1b6da"
            ],
            [
             0.4,
             "#fde0ef"
            ],
            [
             0.5,
             "#f7f7f7"
            ],
            [
             0.6,
             "#e6f5d0"
            ],
            [
             0.7,
             "#b8e186"
            ],
            [
             0.8,
             "#7fbc41"
            ],
            [
             0.9,
             "#4d9221"
            ],
            [
             1,
             "#276419"
            ]
           ],
           "sequential": [
            [
             0,
             "#0d0887"
            ],
            [
             0.1111111111111111,
             "#46039f"
            ],
            [
             0.2222222222222222,
             "#7201a8"
            ],
            [
             0.3333333333333333,
             "#9c179e"
            ],
            [
             0.4444444444444444,
             "#bd3786"
            ],
            [
             0.5555555555555556,
             "#d8576b"
            ],
            [
             0.6666666666666666,
             "#ed7953"
            ],
            [
             0.7777777777777778,
             "#fb9f3a"
            ],
            [
             0.8888888888888888,
             "#fdca26"
            ],
            [
             1,
             "#f0f921"
            ]
           ],
           "sequentialminus": [
            [
             0,
             "#0d0887"
            ],
            [
             0.1111111111111111,
             "#46039f"
            ],
            [
             0.2222222222222222,
             "#7201a8"
            ],
            [
             0.3333333333333333,
             "#9c179e"
            ],
            [
             0.4444444444444444,
             "#bd3786"
            ],
            [
             0.5555555555555556,
             "#d8576b"
            ],
            [
             0.6666666666666666,
             "#ed7953"
            ],
            [
             0.7777777777777778,
             "#fb9f3a"
            ],
            [
             0.8888888888888888,
             "#fdca26"
            ],
            [
             1,
             "#f0f921"
            ]
           ]
          },
          "colorway": [
           "#636efa",
           "#EF553B",
           "#00cc96",
           "#ab63fa",
           "#FFA15A",
           "#19d3f3",
           "#FF6692",
           "#B6E880",
           "#FF97FF",
           "#FECB52"
          ],
          "font": {
           "color": "#2a3f5f"
          },
          "geo": {
           "bgcolor": "white",
           "lakecolor": "white",
           "landcolor": "#E5ECF6",
           "showlakes": true,
           "showland": true,
           "subunitcolor": "white"
          },
          "hoverlabel": {
           "align": "left"
          },
          "hovermode": "closest",
          "mapbox": {
           "style": "light"
          },
          "paper_bgcolor": "white",
          "plot_bgcolor": "#E5ECF6",
          "polar": {
           "angularaxis": {
            "gridcolor": "white",
            "linecolor": "white",
            "ticks": ""
           },
           "bgcolor": "#E5ECF6",
           "radialaxis": {
            "gridcolor": "white",
            "linecolor": "white",
            "ticks": ""
           }
          },
          "scene": {
           "xaxis": {
            "backgroundcolor": "#E5ECF6",
            "gridcolor": "white",
            "gridwidth": 2,
            "linecolor": "white",
            "showbackground": true,
            "ticks": "",
            "zerolinecolor": "white"
           },
           "yaxis": {
            "backgroundcolor": "#E5ECF6",
            "gridcolor": "white",
            "gridwidth": 2,
            "linecolor": "white",
            "showbackground": true,
            "ticks": "",
            "zerolinecolor": "white"
           },
           "zaxis": {
            "backgroundcolor": "#E5ECF6",
            "gridcolor": "white",
            "gridwidth": 2,
            "linecolor": "white",
            "showbackground": true,
            "ticks": "",
            "zerolinecolor": "white"
           }
          },
          "shapedefaults": {
           "line": {
            "color": "#2a3f5f"
           }
          },
          "ternary": {
           "aaxis": {
            "gridcolor": "white",
            "linecolor": "white",
            "ticks": ""
           },
           "baxis": {
            "gridcolor": "white",
            "linecolor": "white",
            "ticks": ""
           },
           "bgcolor": "#E5ECF6",
           "caxis": {
            "gridcolor": "white",
            "linecolor": "white",
            "ticks": ""
           }
          },
          "title": {
           "x": 0.05
          },
          "xaxis": {
           "automargin": true,
           "gridcolor": "white",
           "linecolor": "white",
           "ticks": "",
           "title": {
            "standoff": 15
           },
           "zerolinecolor": "white",
           "zerolinewidth": 2
          },
          "yaxis": {
           "automargin": true,
           "gridcolor": "white",
           "linecolor": "white",
           "ticks": "",
           "title": {
            "standoff": 15
           },
           "zerolinecolor": "white",
           "zerolinewidth": 2
          }
         }
        },
        "xaxis": {
         "range": [
          0,
          1.6989700043360187
         ],
         "title": {
          "text": "d"
         },
         "type": "log"
        },
        "yaxis": {
         "title": {
          "text": "I(d)"
         },
         "type": "log"
        }
       }
      }
     },
     "metadata": {},
     "output_type": "display_data"
    }
   ],
   "source": [
    "fig = go.Figure()\n",
    "fig.add_trace(go.Scatter(y=MI[1:], x=list(range(1, len(MI))), mode='markers'))\n",
    "fig.update_layout(xaxis=dict(range=[0, np.log10(len(MI))]))\n",
    "fig.update_layout(\n",
    "    xaxis_title=\"d\",\n",
    "    xaxis_type=\"log\",\n",
    "    yaxis_title=\"I(d)\",\n",
    "    yaxis_type=\"log\",\n",
    ")\n",
    "fig.show()"
   ]
  }
 ],
 "metadata": {
  "kernelspec": {
   "display_name": "IQL",
   "language": "python",
   "name": "python3"
  },
  "language_info": {
   "codemirror_mode": {
    "name": "ipython",
    "version": 3
   },
   "file_extension": ".py",
   "mimetype": "text/x-python",
   "name": "python",
   "nbconvert_exporter": "python",
   "pygments_lexer": "ipython3",
   "version": "3.11.9"
  }
 },
 "nbformat": 4,
 "nbformat_minor": 2
}
